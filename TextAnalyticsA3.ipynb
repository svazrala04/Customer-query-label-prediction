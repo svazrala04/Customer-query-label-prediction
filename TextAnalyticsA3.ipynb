{
  "cells": [
    {
      "cell_type": "markdown",
      "metadata": {
        "id": "view-in-github",
        "colab_type": "text"
      },
      "source": [
        "<a href=\"https://colab.research.google.com/github/svazrala04/Customer-query-label-prediction/blob/main/TextAnalyticsA3.ipynb\" target=\"_parent\"><img src=\"https://colab.research.google.com/assets/colab-badge.svg\" alt=\"Open In Colab\"/></a>"
      ]
    },
    {
      "cell_type": "code",
      "execution_count": null,
      "metadata": {
        "id": "Rtqjss349gEO"
      },
      "outputs": [],
      "source": [
        "import pandas as pd\n",
        "df=pd.read_csv('/content/Customer_Service_Questions_Multiclass.csv')"
      ]
    },
    {
      "cell_type": "code",
      "execution_count": null,
      "metadata": {
        "id": "TLY4Qmp39jr0"
      },
      "outputs": [],
      "source": [
        "import numpy as np\n",
        "import matplotlib.pyplot as plt\n"
      ]
    },
    {
      "cell_type": "code",
      "execution_count": null,
      "metadata": {
        "colab": {
          "base_uri": "https://localhost:8080/"
        },
        "id": "GIaLqM-n97yv",
        "outputId": "3e56bf3b-d7dd-414b-de94-9bf9ea94fa0c"
      },
      "outputs": [
        {
          "output_type": "execute_result",
          "data": {
            "text/plain": [
              "question    object\n",
              "topic       object\n",
              "dtype: object"
            ]
          },
          "metadata": {},
          "execution_count": 154
        }
      ],
      "source": [
        "df.dtypes"
      ]
    },
    {
      "cell_type": "code",
      "execution_count": null,
      "metadata": {
        "colab": {
          "base_uri": "https://localhost:8080/"
        },
        "id": "dy7mkZ-S999X",
        "outputId": "c255f89d-99ed-4aeb-b0c3-256845fec772"
      },
      "outputs": [
        {
          "output_type": "execute_result",
          "data": {
            "text/plain": [
              "(5000, 2)"
            ]
          },
          "metadata": {},
          "execution_count": 155
        }
      ],
      "source": [
        "df.shape"
      ]
    },
    {
      "cell_type": "code",
      "execution_count": null,
      "metadata": {
        "colab": {
          "base_uri": "https://localhost:8080/"
        },
        "id": "JjySAK9K-DaD",
        "outputId": "defb153a-9d24-4410-bcd1-ee2822136812"
      },
      "outputs": [
        {
          "output_type": "stream",
          "name": "stderr",
          "text": [
            "[nltk_data] Downloading package punkt to /root/nltk_data...\n",
            "[nltk_data]   Package punkt is already up-to-date!\n",
            "[nltk_data] Downloading package stopwords to /root/nltk_data...\n",
            "[nltk_data]   Package stopwords is already up-to-date!\n",
            "[nltk_data] Downloading package wordnet to /root/nltk_data...\n",
            "[nltk_data]   Package wordnet is already up-to-date!\n",
            "[nltk_data] Downloading package omw-1.4 to /root/nltk_data...\n",
            "[nltk_data]   Package omw-1.4 is already up-to-date!\n"
          ]
        }
      ],
      "source": [
        "import nltk\n",
        "nltk.download('punkt')\n",
        "nltk.download('stopwords')\n",
        "nltk.download('wordnet')\n",
        "from nltk.tokenize import regexp_tokenize\n",
        "from nltk.corpus import stopwords\n",
        "from nltk.stem import WordNetLemmatizer\n",
        "lemmatizer = WordNetLemmatizer()\n",
        "nltk.download('omw-1.4')\n",
        "lemmatizer = WordNetLemmatizer()"
      ]
    },
    {
      "cell_type": "markdown",
      "metadata": {
        "id": "nrIc4BjQ-Uso"
      },
      "source": [
        "# Text Preprocessing"
      ]
    },
    {
      "cell_type": "code",
      "execution_count": null,
      "metadata": {
        "id": "XCa2cFaC-TjZ"
      },
      "outputs": [],
      "source": [
        "from nltk.corpus.reader.tagged import word_tokenize\n",
        "import re\n"
      ]
    },
    {
      "cell_type": "code",
      "execution_count": null,
      "metadata": {
        "id": "ZbPwAunw-YtQ"
      },
      "outputs": [],
      "source": [
        "def clean_text(question):\n",
        "  for char in '!#$%&@?,.:;+-*/=<>\"\\'()[\\\\]{|}~\\n\\t':\n",
        "    question=question.replace(char, ' ')\n",
        "  question=question.lower()\n",
        "  question= re.sub(r'\\d+','',question)\n",
        "  word_list=word_tokenize(question)\n",
        "  stop_words= stopwords.words('english')\n",
        "  words_list=[w for w in word_list if w not in stop_words]\n",
        "  words_list = [lemmatizer.lemmatize(w) for w in words_list]\n",
        "  final_text=' '.join([w for w in words_list])\n",
        "  return final_text"
      ]
    },
    {
      "cell_type": "code",
      "execution_count": null,
      "metadata": {
        "id": "mpi6afPn-ayH"
      },
      "outputs": [],
      "source": [
        "df['clean_question']=df['question'].apply(clean_text)"
      ]
    },
    {
      "cell_type": "code",
      "execution_count": null,
      "metadata": {
        "id": "E_djfxP--csi"
      },
      "outputs": [],
      "source": [
        "def tokenize_text(text):\n",
        "  word_list=word_tokenize(text)\n",
        "  return word_list"
      ]
    },
    {
      "cell_type": "code",
      "execution_count": null,
      "metadata": {
        "id": "YoM200si-fA5"
      },
      "outputs": [],
      "source": [
        "df['tokenized_cleanquestion']=df['clean_question'].apply(tokenize_text)"
      ]
    },
    {
      "cell_type": "code",
      "execution_count": null,
      "metadata": {
        "colab": {
          "base_uri": "https://localhost:8080/",
          "height": 1000
        },
        "id": "pwX_d_Og-kfE",
        "outputId": "2481fcd1-de38-45d7-d373-28171e622593"
      },
      "outputs": [
        {
          "output_type": "execute_result",
          "data": {
            "text/plain": [
              "                                             question                   topic  \\\n",
              "0   Hi! If I sign up for your email list, can I se...        Sales/Promotions   \n",
              "1   I'm going to be out of the country for about a...                Shipping   \n",
              "2   I was wondering if you'd be able to overnight ...                Shipping   \n",
              "3   The Swingline electronic stapler (472555) look...                Shipping   \n",
              "4   I think this cosmetic bag would work great for...                Shipping   \n",
              "5   I'm going to be out of the state for about a w...                Shipping   \n",
              "6   I'm going to be out of the state for about a w...                Shipping   \n",
              "7   The Stanley Bostitch electronic stapler (63460...                Shipping   \n",
              "8   When is the estimated delivery date if I was t...                Shipping   \n",
              "9   I was wondering if you'd be able to overnight ...                Shipping   \n",
              "10  If I sign up for your email list, can I select...        Sales/Promotions   \n",
              "11  If I were to get this OMP driver footrest (mpn...        Sales/Promotions   \n",
              "12  Do you have any promo codes I'd be able to use...        Sales/Promotions   \n",
              "13  I'm going to be out of the state for about a w...                Shipping   \n",
              "14  What kind of discounts will I receive if I sig...        Sales/Promotions   \n",
              "15  What kind of discounts will I receive if I sig...        Sales/Promotions   \n",
              "16  What kind of discounts will I receive if I sig...        Sales/Promotions   \n",
              "17  Is there any way I can be notified through e-m...        Sales/Promotions   \n",
              "18  I was wondering if you'd be able to overnight ...                Shipping   \n",
              "19  My friend's birthday is coming up, and I'd lik...                Shipping   \n",
              "20  Would you be able to overnight these pajamas, ...                Shipping   \n",
              "21  I was wondering if you'd be able to overnight ...                Shipping   \n",
              "22  I'm going to be out of the state for about a w...                Shipping   \n",
              "23  Do you have any promo codes I'd be able to use...        Sales/Promotions   \n",
              "24  Do you have any promo codes I'd be able to use...        Sales/Promotions   \n",
              "25  Hi! If I sign up for your email list, can I se...        Sales/Promotions   \n",
              "26  What kind of discounts will I receive if I sig...        Sales/Promotions   \n",
              "27  I was wondering if you'd be able to overnight ...                Shipping   \n",
              "28  My friend's birthday is coming up, and I'd lik...                Shipping   \n",
              "29  I'm looking to maybe order the Samsung Galaxy ...                Shipping   \n",
              "30  I'll probably end up ordering this Kat Von D l...                Shipping   \n",
              "31  I'm going to be out of the state for about a w...                Shipping   \n",
              "32  Hi! If I sign up for your email list, can I se...        Sales/Promotions   \n",
              "33  I think this tote bag (618846) would work grea...                Shipping   \n",
              "34  I'm looking for men's cold weather gloves, do ...    Product Availability   \n",
              "35  Do you sell any simple women's beanie hats? I ...    Product Availability   \n",
              "36  Does the Badge Faux Fur Collar Parka (item 907...  Product Specifications   \n",
              "37  What materialis the sole of the Newton Fate ma...  Product Specifications   \n",
              "38  Do you know how much cholesterol is in the whe...  Product Specifications   \n",
              "39  I have been searching for a mid-century style ...    Product Availability   \n",
              "\n",
              "                                       clean_question  \\\n",
              "0   hi sign email list select get email exclusivel...   \n",
              "1   going country week travel going getting animal...   \n",
              "2     wondering able overnight jacket item trenton nj   \n",
              "3   swingline electronic stapler look really great...   \n",
              "4   think cosmetic bag would work great however kn...   \n",
              "5   going state week travel going getting wristlet...   \n",
              "6   going state week travel going getting venetian...   \n",
              "7   stanley bostitch electronic stapler look reall...   \n",
              "8   estimated delivery date order creatine powder ...   \n",
              "9   wondering able overnight trench coat item numb...   \n",
              "10  sign email list select get email exclusively s...   \n",
              "11  get omp driver footrest mpn go sale next week ...   \n",
              "12         promo code able use cocktail dress website   \n",
              "13  going state week travel going getting spa hood...   \n",
              "14             kind discount receive sign e mail list   \n",
              "15             kind discount receive sign e mail list   \n",
              "16             kind discount receive sign e mail list   \n",
              "17  way notified e mail update clearance item put ...   \n",
              "18  wondering able overnight desk item ea ya trent...   \n",
              "19  friend birthday coming like get klein tool mag...   \n",
              "20  would able overnight pajama item number aj chi...   \n",
              "21  wondering able overnight sweater item ag trent...   \n",
              "22  going state week travel going getting cool rac...   \n",
              "23      promo code able use sport outdoors department   \n",
              "24      promo code able use sport outdoors department   \n",
              "25  hi sign email list select get email exclusivel...   \n",
              "26             kind discount receive sign e mail list   \n",
              "27  wondering able overnight bonded satin jacket t...   \n",
              "28  friend birthday coming like get kobalt hi vi s...   \n",
              "29  looking maybe order samsung galaxy tab nook or...   \n",
              "30  probably end ordering kat von lipstick set pre...   \n",
              "31  going state week travel going getting iphone c...   \n",
              "32  hi sign email list select get email exclusivel...   \n",
              "33  think tote bag would work great however know l...   \n",
              "34  looking men cold weather glove available site ...   \n",
              "35  sell simple woman beanie hat want something re...   \n",
              "36  badge faux fur collar parka item liner layer m...   \n",
              "37  materialis sole newton fate made sku looking s...   \n",
              "38                    know much cholesterol whey fuel   \n",
              "39  searching mid century style coffee table blond...   \n",
              "\n",
              "                              tokenized_cleanquestion  \n",
              "0   [hi, sign, email, list, select, get, email, ex...  \n",
              "1   [going, country, week, travel, going, getting,...  \n",
              "2   [wondering, able, overnight, jacket, item, tre...  \n",
              "3   [swingline, electronic, stapler, look, really,...  \n",
              "4   [think, cosmetic, bag, would, work, great, how...  \n",
              "5   [going, state, week, travel, going, getting, w...  \n",
              "6   [going, state, week, travel, going, getting, v...  \n",
              "7   [stanley, bostitch, electronic, stapler, look,...  \n",
              "8   [estimated, delivery, date, order, creatine, p...  \n",
              "9   [wondering, able, overnight, trench, coat, ite...  \n",
              "10  [sign, email, list, select, get, email, exclus...  \n",
              "11  [get, omp, driver, footrest, mpn, go, sale, ne...  \n",
              "12  [promo, code, able, use, cocktail, dress, webs...  \n",
              "13  [going, state, week, travel, going, getting, s...  \n",
              "14     [kind, discount, receive, sign, e, mail, list]  \n",
              "15     [kind, discount, receive, sign, e, mail, list]  \n",
              "16     [kind, discount, receive, sign, e, mail, list]  \n",
              "17  [way, notified, e, mail, update, clearance, it...  \n",
              "18  [wondering, able, overnight, desk, item, ea, y...  \n",
              "19  [friend, birthday, coming, like, get, klein, t...  \n",
              "20  [would, able, overnight, pajama, item, number,...  \n",
              "21  [wondering, able, overnight, sweater, item, ag...  \n",
              "22  [going, state, week, travel, going, getting, c...  \n",
              "23  [promo, code, able, use, sport, outdoors, depa...  \n",
              "24  [promo, code, able, use, sport, outdoors, depa...  \n",
              "25  [hi, sign, email, list, select, get, email, ex...  \n",
              "26     [kind, discount, receive, sign, e, mail, list]  \n",
              "27  [wondering, able, overnight, bonded, satin, ja...  \n",
              "28  [friend, birthday, coming, like, get, kobalt, ...  \n",
              "29  [looking, maybe, order, samsung, galaxy, tab, ...  \n",
              "30  [probably, end, ordering, kat, von, lipstick, ...  \n",
              "31  [going, state, week, travel, going, getting, i...  \n",
              "32  [hi, sign, email, list, select, get, email, ex...  \n",
              "33  [think, tote, bag, would, work, great, however...  \n",
              "34  [looking, men, cold, weather, glove, available...  \n",
              "35  [sell, simple, woman, beanie, hat, want, somet...  \n",
              "36  [badge, faux, fur, collar, parka, item, liner,...  \n",
              "37  [materialis, sole, newton, fate, made, sku, lo...  \n",
              "38              [know, much, cholesterol, whey, fuel]  \n",
              "39  [searching, mid, century, style, coffee, table...  "
            ],
            "text/html": [
              "\n",
              "  <div id=\"df-8ebce731-1bc0-436e-acfc-c3d8973bca78\">\n",
              "    <div class=\"colab-df-container\">\n",
              "      <div>\n",
              "<style scoped>\n",
              "    .dataframe tbody tr th:only-of-type {\n",
              "        vertical-align: middle;\n",
              "    }\n",
              "\n",
              "    .dataframe tbody tr th {\n",
              "        vertical-align: top;\n",
              "    }\n",
              "\n",
              "    .dataframe thead th {\n",
              "        text-align: right;\n",
              "    }\n",
              "</style>\n",
              "<table border=\"1\" class=\"dataframe\">\n",
              "  <thead>\n",
              "    <tr style=\"text-align: right;\">\n",
              "      <th></th>\n",
              "      <th>question</th>\n",
              "      <th>topic</th>\n",
              "      <th>clean_question</th>\n",
              "      <th>tokenized_cleanquestion</th>\n",
              "    </tr>\n",
              "  </thead>\n",
              "  <tbody>\n",
              "    <tr>\n",
              "      <th>0</th>\n",
              "      <td>Hi! If I sign up for your email list, can I se...</td>\n",
              "      <td>Sales/Promotions</td>\n",
              "      <td>hi sign email list select get email exclusivel...</td>\n",
              "      <td>[hi, sign, email, list, select, get, email, ex...</td>\n",
              "    </tr>\n",
              "    <tr>\n",
              "      <th>1</th>\n",
              "      <td>I'm going to be out of the country for about a...</td>\n",
              "      <td>Shipping</td>\n",
              "      <td>going country week travel going getting animal...</td>\n",
              "      <td>[going, country, week, travel, going, getting,...</td>\n",
              "    </tr>\n",
              "    <tr>\n",
              "      <th>2</th>\n",
              "      <td>I was wondering if you'd be able to overnight ...</td>\n",
              "      <td>Shipping</td>\n",
              "      <td>wondering able overnight jacket item trenton nj</td>\n",
              "      <td>[wondering, able, overnight, jacket, item, tre...</td>\n",
              "    </tr>\n",
              "    <tr>\n",
              "      <th>3</th>\n",
              "      <td>The Swingline electronic stapler (472555) look...</td>\n",
              "      <td>Shipping</td>\n",
              "      <td>swingline electronic stapler look really great...</td>\n",
              "      <td>[swingline, electronic, stapler, look, really,...</td>\n",
              "    </tr>\n",
              "    <tr>\n",
              "      <th>4</th>\n",
              "      <td>I think this cosmetic bag would work great for...</td>\n",
              "      <td>Shipping</td>\n",
              "      <td>think cosmetic bag would work great however kn...</td>\n",
              "      <td>[think, cosmetic, bag, would, work, great, how...</td>\n",
              "    </tr>\n",
              "    <tr>\n",
              "      <th>5</th>\n",
              "      <td>I'm going to be out of the state for about a w...</td>\n",
              "      <td>Shipping</td>\n",
              "      <td>going state week travel going getting wristlet...</td>\n",
              "      <td>[going, state, week, travel, going, getting, w...</td>\n",
              "    </tr>\n",
              "    <tr>\n",
              "      <th>6</th>\n",
              "      <td>I'm going to be out of the state for about a w...</td>\n",
              "      <td>Shipping</td>\n",
              "      <td>going state week travel going getting venetian...</td>\n",
              "      <td>[going, state, week, travel, going, getting, v...</td>\n",
              "    </tr>\n",
              "    <tr>\n",
              "      <th>7</th>\n",
              "      <td>The Stanley Bostitch electronic stapler (63460...</td>\n",
              "      <td>Shipping</td>\n",
              "      <td>stanley bostitch electronic stapler look reall...</td>\n",
              "      <td>[stanley, bostitch, electronic, stapler, look,...</td>\n",
              "    </tr>\n",
              "    <tr>\n",
              "      <th>8</th>\n",
              "      <td>When is the estimated delivery date if I was t...</td>\n",
              "      <td>Shipping</td>\n",
              "      <td>estimated delivery date order creatine powder ...</td>\n",
              "      <td>[estimated, delivery, date, order, creatine, p...</td>\n",
              "    </tr>\n",
              "    <tr>\n",
              "      <th>9</th>\n",
              "      <td>I was wondering if you'd be able to overnight ...</td>\n",
              "      <td>Shipping</td>\n",
              "      <td>wondering able overnight trench coat item numb...</td>\n",
              "      <td>[wondering, able, overnight, trench, coat, ite...</td>\n",
              "    </tr>\n",
              "    <tr>\n",
              "      <th>10</th>\n",
              "      <td>If I sign up for your email list, can I select...</td>\n",
              "      <td>Sales/Promotions</td>\n",
              "      <td>sign email list select get email exclusively s...</td>\n",
              "      <td>[sign, email, list, select, get, email, exclus...</td>\n",
              "    </tr>\n",
              "    <tr>\n",
              "      <th>11</th>\n",
              "      <td>If I were to get this OMP driver footrest (mpn...</td>\n",
              "      <td>Sales/Promotions</td>\n",
              "      <td>get omp driver footrest mpn go sale next week ...</td>\n",
              "      <td>[get, omp, driver, footrest, mpn, go, sale, ne...</td>\n",
              "    </tr>\n",
              "    <tr>\n",
              "      <th>12</th>\n",
              "      <td>Do you have any promo codes I'd be able to use...</td>\n",
              "      <td>Sales/Promotions</td>\n",
              "      <td>promo code able use cocktail dress website</td>\n",
              "      <td>[promo, code, able, use, cocktail, dress, webs...</td>\n",
              "    </tr>\n",
              "    <tr>\n",
              "      <th>13</th>\n",
              "      <td>I'm going to be out of the state for about a w...</td>\n",
              "      <td>Shipping</td>\n",
              "      <td>going state week travel going getting spa hood...</td>\n",
              "      <td>[going, state, week, travel, going, getting, s...</td>\n",
              "    </tr>\n",
              "    <tr>\n",
              "      <th>14</th>\n",
              "      <td>What kind of discounts will I receive if I sig...</td>\n",
              "      <td>Sales/Promotions</td>\n",
              "      <td>kind discount receive sign e mail list</td>\n",
              "      <td>[kind, discount, receive, sign, e, mail, list]</td>\n",
              "    </tr>\n",
              "    <tr>\n",
              "      <th>15</th>\n",
              "      <td>What kind of discounts will I receive if I sig...</td>\n",
              "      <td>Sales/Promotions</td>\n",
              "      <td>kind discount receive sign e mail list</td>\n",
              "      <td>[kind, discount, receive, sign, e, mail, list]</td>\n",
              "    </tr>\n",
              "    <tr>\n",
              "      <th>16</th>\n",
              "      <td>What kind of discounts will I receive if I sig...</td>\n",
              "      <td>Sales/Promotions</td>\n",
              "      <td>kind discount receive sign e mail list</td>\n",
              "      <td>[kind, discount, receive, sign, e, mail, list]</td>\n",
              "    </tr>\n",
              "    <tr>\n",
              "      <th>17</th>\n",
              "      <td>Is there any way I can be notified through e-m...</td>\n",
              "      <td>Sales/Promotions</td>\n",
              "      <td>way notified e mail update clearance item put ...</td>\n",
              "      <td>[way, notified, e, mail, update, clearance, it...</td>\n",
              "    </tr>\n",
              "    <tr>\n",
              "      <th>18</th>\n",
              "      <td>I was wondering if you'd be able to overnight ...</td>\n",
              "      <td>Shipping</td>\n",
              "      <td>wondering able overnight desk item ea ya trent...</td>\n",
              "      <td>[wondering, able, overnight, desk, item, ea, y...</td>\n",
              "    </tr>\n",
              "    <tr>\n",
              "      <th>19</th>\n",
              "      <td>My friend's birthday is coming up, and I'd lik...</td>\n",
              "      <td>Shipping</td>\n",
              "      <td>friend birthday coming like get klein tool mag...</td>\n",
              "      <td>[friend, birthday, coming, like, get, klein, t...</td>\n",
              "    </tr>\n",
              "    <tr>\n",
              "      <th>20</th>\n",
              "      <td>Would you be able to overnight these pajamas, ...</td>\n",
              "      <td>Shipping</td>\n",
              "      <td>would able overnight pajama item number aj chi...</td>\n",
              "      <td>[would, able, overnight, pajama, item, number,...</td>\n",
              "    </tr>\n",
              "    <tr>\n",
              "      <th>21</th>\n",
              "      <td>I was wondering if you'd be able to overnight ...</td>\n",
              "      <td>Shipping</td>\n",
              "      <td>wondering able overnight sweater item ag trent...</td>\n",
              "      <td>[wondering, able, overnight, sweater, item, ag...</td>\n",
              "    </tr>\n",
              "    <tr>\n",
              "      <th>22</th>\n",
              "      <td>I'm going to be out of the state for about a w...</td>\n",
              "      <td>Shipping</td>\n",
              "      <td>going state week travel going getting cool rac...</td>\n",
              "      <td>[going, state, week, travel, going, getting, c...</td>\n",
              "    </tr>\n",
              "    <tr>\n",
              "      <th>23</th>\n",
              "      <td>Do you have any promo codes I'd be able to use...</td>\n",
              "      <td>Sales/Promotions</td>\n",
              "      <td>promo code able use sport outdoors department</td>\n",
              "      <td>[promo, code, able, use, sport, outdoors, depa...</td>\n",
              "    </tr>\n",
              "    <tr>\n",
              "      <th>24</th>\n",
              "      <td>Do you have any promo codes I'd be able to use...</td>\n",
              "      <td>Sales/Promotions</td>\n",
              "      <td>promo code able use sport outdoors department</td>\n",
              "      <td>[promo, code, able, use, sport, outdoors, depa...</td>\n",
              "    </tr>\n",
              "    <tr>\n",
              "      <th>25</th>\n",
              "      <td>Hi! If I sign up for your email list, can I se...</td>\n",
              "      <td>Sales/Promotions</td>\n",
              "      <td>hi sign email list select get email exclusivel...</td>\n",
              "      <td>[hi, sign, email, list, select, get, email, ex...</td>\n",
              "    </tr>\n",
              "    <tr>\n",
              "      <th>26</th>\n",
              "      <td>What kind of discounts will I receive if I sig...</td>\n",
              "      <td>Sales/Promotions</td>\n",
              "      <td>kind discount receive sign e mail list</td>\n",
              "      <td>[kind, discount, receive, sign, e, mail, list]</td>\n",
              "    </tr>\n",
              "    <tr>\n",
              "      <th>27</th>\n",
              "      <td>I was wondering if you'd be able to overnight ...</td>\n",
              "      <td>Shipping</td>\n",
              "      <td>wondering able overnight bonded satin jacket t...</td>\n",
              "      <td>[wondering, able, overnight, bonded, satin, ja...</td>\n",
              "    </tr>\n",
              "    <tr>\n",
              "      <th>28</th>\n",
              "      <td>My friend's birthday is coming up, and I'd lik...</td>\n",
              "      <td>Shipping</td>\n",
              "      <td>friend birthday coming like get kobalt hi vi s...</td>\n",
              "      <td>[friend, birthday, coming, like, get, kobalt, ...</td>\n",
              "    </tr>\n",
              "    <tr>\n",
              "      <th>29</th>\n",
              "      <td>I'm looking to maybe order the Samsung Galaxy ...</td>\n",
              "      <td>Shipping</td>\n",
              "      <td>looking maybe order samsung galaxy tab nook or...</td>\n",
              "      <td>[looking, maybe, order, samsung, galaxy, tab, ...</td>\n",
              "    </tr>\n",
              "    <tr>\n",
              "      <th>30</th>\n",
              "      <td>I'll probably end up ordering this Kat Von D l...</td>\n",
              "      <td>Shipping</td>\n",
              "      <td>probably end ordering kat von lipstick set pre...</td>\n",
              "      <td>[probably, end, ordering, kat, von, lipstick, ...</td>\n",
              "    </tr>\n",
              "    <tr>\n",
              "      <th>31</th>\n",
              "      <td>I'm going to be out of the state for about a w...</td>\n",
              "      <td>Shipping</td>\n",
              "      <td>going state week travel going getting iphone c...</td>\n",
              "      <td>[going, state, week, travel, going, getting, i...</td>\n",
              "    </tr>\n",
              "    <tr>\n",
              "      <th>32</th>\n",
              "      <td>Hi! If I sign up for your email list, can I se...</td>\n",
              "      <td>Sales/Promotions</td>\n",
              "      <td>hi sign email list select get email exclusivel...</td>\n",
              "      <td>[hi, sign, email, list, select, get, email, ex...</td>\n",
              "    </tr>\n",
              "    <tr>\n",
              "      <th>33</th>\n",
              "      <td>I think this tote bag (618846) would work grea...</td>\n",
              "      <td>Shipping</td>\n",
              "      <td>think tote bag would work great however know l...</td>\n",
              "      <td>[think, tote, bag, would, work, great, however...</td>\n",
              "    </tr>\n",
              "    <tr>\n",
              "      <th>34</th>\n",
              "      <td>I'm looking for men's cold weather gloves, do ...</td>\n",
              "      <td>Product Availability</td>\n",
              "      <td>looking men cold weather glove available site ...</td>\n",
              "      <td>[looking, men, cold, weather, glove, available...</td>\n",
              "    </tr>\n",
              "    <tr>\n",
              "      <th>35</th>\n",
              "      <td>Do you sell any simple women's beanie hats? I ...</td>\n",
              "      <td>Product Availability</td>\n",
              "      <td>sell simple woman beanie hat want something re...</td>\n",
              "      <td>[sell, simple, woman, beanie, hat, want, somet...</td>\n",
              "    </tr>\n",
              "    <tr>\n",
              "      <th>36</th>\n",
              "      <td>Does the Badge Faux Fur Collar Parka (item 907...</td>\n",
              "      <td>Product Specifications</td>\n",
              "      <td>badge faux fur collar parka item liner layer m...</td>\n",
              "      <td>[badge, faux, fur, collar, parka, item, liner,...</td>\n",
              "    </tr>\n",
              "    <tr>\n",
              "      <th>37</th>\n",
              "      <td>What materialis the sole of the Newton Fate ma...</td>\n",
              "      <td>Product Specifications</td>\n",
              "      <td>materialis sole newton fate made sku looking s...</td>\n",
              "      <td>[materialis, sole, newton, fate, made, sku, lo...</td>\n",
              "    </tr>\n",
              "    <tr>\n",
              "      <th>38</th>\n",
              "      <td>Do you know how much cholesterol is in the whe...</td>\n",
              "      <td>Product Specifications</td>\n",
              "      <td>know much cholesterol whey fuel</td>\n",
              "      <td>[know, much, cholesterol, whey, fuel]</td>\n",
              "    </tr>\n",
              "    <tr>\n",
              "      <th>39</th>\n",
              "      <td>I have been searching for a mid-century style ...</td>\n",
              "      <td>Product Availability</td>\n",
              "      <td>searching mid century style coffee table blond...</td>\n",
              "      <td>[searching, mid, century, style, coffee, table...</td>\n",
              "    </tr>\n",
              "  </tbody>\n",
              "</table>\n",
              "</div>\n",
              "      <button class=\"colab-df-convert\" onclick=\"convertToInteractive('df-8ebce731-1bc0-436e-acfc-c3d8973bca78')\"\n",
              "              title=\"Convert this dataframe to an interactive table.\"\n",
              "              style=\"display:none;\">\n",
              "        \n",
              "  <svg xmlns=\"http://www.w3.org/2000/svg\" height=\"24px\"viewBox=\"0 0 24 24\"\n",
              "       width=\"24px\">\n",
              "    <path d=\"M0 0h24v24H0V0z\" fill=\"none\"/>\n",
              "    <path d=\"M18.56 5.44l.94 2.06.94-2.06 2.06-.94-2.06-.94-.94-2.06-.94 2.06-2.06.94zm-11 1L8.5 8.5l.94-2.06 2.06-.94-2.06-.94L8.5 2.5l-.94 2.06-2.06.94zm10 10l.94 2.06.94-2.06 2.06-.94-2.06-.94-.94-2.06-.94 2.06-2.06.94z\"/><path d=\"M17.41 7.96l-1.37-1.37c-.4-.4-.92-.59-1.43-.59-.52 0-1.04.2-1.43.59L10.3 9.45l-7.72 7.72c-.78.78-.78 2.05 0 2.83L4 21.41c.39.39.9.59 1.41.59.51 0 1.02-.2 1.41-.59l7.78-7.78 2.81-2.81c.8-.78.8-2.07 0-2.86zM5.41 20L4 18.59l7.72-7.72 1.47 1.35L5.41 20z\"/>\n",
              "  </svg>\n",
              "      </button>\n",
              "      \n",
              "  <style>\n",
              "    .colab-df-container {\n",
              "      display:flex;\n",
              "      flex-wrap:wrap;\n",
              "      gap: 12px;\n",
              "    }\n",
              "\n",
              "    .colab-df-convert {\n",
              "      background-color: #E8F0FE;\n",
              "      border: none;\n",
              "      border-radius: 50%;\n",
              "      cursor: pointer;\n",
              "      display: none;\n",
              "      fill: #1967D2;\n",
              "      height: 32px;\n",
              "      padding: 0 0 0 0;\n",
              "      width: 32px;\n",
              "    }\n",
              "\n",
              "    .colab-df-convert:hover {\n",
              "      background-color: #E2EBFA;\n",
              "      box-shadow: 0px 1px 2px rgba(60, 64, 67, 0.3), 0px 1px 3px 1px rgba(60, 64, 67, 0.15);\n",
              "      fill: #174EA6;\n",
              "    }\n",
              "\n",
              "    [theme=dark] .colab-df-convert {\n",
              "      background-color: #3B4455;\n",
              "      fill: #D2E3FC;\n",
              "    }\n",
              "\n",
              "    [theme=dark] .colab-df-convert:hover {\n",
              "      background-color: #434B5C;\n",
              "      box-shadow: 0px 1px 3px 1px rgba(0, 0, 0, 0.15);\n",
              "      filter: drop-shadow(0px 1px 2px rgba(0, 0, 0, 0.3));\n",
              "      fill: #FFFFFF;\n",
              "    }\n",
              "  </style>\n",
              "\n",
              "      <script>\n",
              "        const buttonEl =\n",
              "          document.querySelector('#df-8ebce731-1bc0-436e-acfc-c3d8973bca78 button.colab-df-convert');\n",
              "        buttonEl.style.display =\n",
              "          google.colab.kernel.accessAllowed ? 'block' : 'none';\n",
              "\n",
              "        async function convertToInteractive(key) {\n",
              "          const element = document.querySelector('#df-8ebce731-1bc0-436e-acfc-c3d8973bca78');\n",
              "          const dataTable =\n",
              "            await google.colab.kernel.invokeFunction('convertToInteractive',\n",
              "                                                     [key], {});\n",
              "          if (!dataTable) return;\n",
              "\n",
              "          const docLinkHtml = 'Like what you see? Visit the ' +\n",
              "            '<a target=\"_blank\" href=https://colab.research.google.com/notebooks/data_table.ipynb>data table notebook</a>'\n",
              "            + ' to learn more about interactive tables.';\n",
              "          element.innerHTML = '';\n",
              "          dataTable['output_type'] = 'display_data';\n",
              "          await google.colab.output.renderOutput(dataTable, element);\n",
              "          const docLink = document.createElement('div');\n",
              "          docLink.innerHTML = docLinkHtml;\n",
              "          element.appendChild(docLink);\n",
              "        }\n",
              "      </script>\n",
              "    </div>\n",
              "  </div>\n",
              "  "
            ]
          },
          "metadata": {},
          "execution_count": 162
        }
      ],
      "source": [
        "df.head(40)"
      ]
    },
    {
      "cell_type": "markdown",
      "metadata": {
        "id": "xzCt-cIy-ok0"
      },
      "source": [
        "# Creating Train and Test data with TF-IDF Vectorizer on tokenized text"
      ]
    },
    {
      "cell_type": "code",
      "execution_count": null,
      "metadata": {
        "id": "613chXkq-pgf"
      },
      "outputs": [],
      "source": [
        "df['category_id'] = df['topic'].factorize()[0]"
      ]
    },
    {
      "cell_type": "code",
      "execution_count": null,
      "metadata": {
        "colab": {
          "base_uri": "https://localhost:8080/"
        },
        "id": "qsrplvUH-ter",
        "outputId": "a8b0749c-ad0d-4061-e706-cdc6e5464586"
      },
      "outputs": [
        {
          "output_type": "execute_result",
          "data": {
            "text/plain": [
              "topic\n",
              "Omnichannel               450\n",
              "Product Availability      833\n",
              "Product Comparison        806\n",
              "Product Specifications    839\n",
              "Returns & Refunds         768\n",
              "Sales/Promotions          505\n",
              "Shipping                  799\n",
              "Name: question, dtype: int64"
            ]
          },
          "metadata": {},
          "execution_count": 164
        }
      ],
      "source": [
        "df.groupby('topic').question.count()"
      ]
    },
    {
      "cell_type": "code",
      "execution_count": null,
      "metadata": {
        "colab": {
          "base_uri": "https://localhost:8080/",
          "height": 506
        },
        "id": "9gXxyC8z-vWD",
        "outputId": "7b396457-4b1e-4bc1-8d9a-662e71b914d1"
      },
      "outputs": [
        {
          "output_type": "execute_result",
          "data": {
            "text/plain": [
              "<function matplotlib.pyplot.show(*args, **kw)>"
            ]
          },
          "metadata": {},
          "execution_count": 165
        },
        {
          "output_type": "display_data",
          "data": {
            "text/plain": [
              "<Figure size 576x432 with 1 Axes>"
            ],
            "image/png": "[encoded data removed]"
          },
          "metadata": {
            "needs_background": "light"
          }
        }
      ],
      "source": [
        "fig=plt.figure(figsize=(8,6))\n",
        "df.groupby('topic').question.count().plot.bar(ylim=0)\n",
        "plt.show"
      ]
    },
    {
      "cell_type": "code",
      "execution_count": null,
      "metadata": {
        "id": "YjFTKF2M-ybC"
      },
      "outputs": [],
      "source": [
        "from sklearn.model_selection import train_test_split\n",
        "randomstate=42\n",
        "\n",
        "X_train, X_test, y_train, y_test = train_test_split(df['clean_question'], df['topic'], test_size=0.2, random_state=randomstate)"
      ]
    },
    {
      "cell_type": "code",
      "execution_count": null,
      "metadata": {
        "colab": {
          "base_uri": "https://localhost:8080/"
        },
        "id": "1A5XA1wL-2KU",
        "outputId": "6b0b5a96-a7e3-4497-c30d-44ce9ed522c8"
      },
      "outputs": [
        {
          "output_type": "execute_result",
          "data": {
            "text/plain": [
              "((4000,), (4000,), (1000,), (1000,))"
            ]
          },
          "metadata": {},
          "execution_count": 167
        }
      ],
      "source": [
        "X_train.shape, y_train.shape, X_test.shape, y_test.shape"
      ]
    },
    {
      "cell_type": "code",
      "execution_count": null,
      "metadata": {
        "id": "vZ_iK9WP-5Kh"
      },
      "outputs": [],
      "source": [
        "from sklearn.preprocessing import LabelEncoder\n",
        "encoder = LabelEncoder()\n",
        "y_train=encoder.fit_transform(y_train)\n",
        "y_test= encoder.fit_transform(y_test)\n",
        "\n",
        "\n",
        "from sklearn.feature_extraction.text import TfidfVectorizer\n",
        "tfidf_vect = TfidfVectorizer(analyzer='word', token_pattern=r'\\w{1,}', max_features=5000)\n",
        "tfidf_vect.fit(df['clean_question'])\n",
        "Xtrain_tfidf =  tfidf_vect.transform(X_train)\n",
        "Xtest_tfidf =  tfidf_vect.transform(X_test)"
      ]
    },
    {
      "cell_type": "markdown",
      "metadata": {
        "id": "r7WYFeDoHC5G"
      },
      "source": [
        "# TF-IDF of unigrams"
      ]
    },
    {
      "cell_type": "code",
      "execution_count": null,
      "metadata": {
        "id": "pg458Nb0GRKU"
      },
      "outputs": [],
      "source": [
        "tfidf_unigram = TfidfVectorizer(ngram_range=(1,1))\n",
        "tfidf_unigram.fit(X_train)\n",
        "\n",
        "X_train_tfidf_unigram = tfidf_unigram.transform(X_train)\n",
        "X_test_tfidf_unigram = tfidf_unigram.transform(X_test)"
      ]
    },
    {
      "cell_type": "markdown",
      "metadata": {
        "id": "-Zq6ZU9RHnJ9"
      },
      "source": [
        "# Tf-idf ngram(4,5)"
      ]
    },
    {
      "cell_type": "code",
      "execution_count": null,
      "metadata": {
        "id": "qi1HaNIvHmaF"
      },
      "outputs": [],
      "source": [
        "tfidf_ngram=TfidfVectorizer(ngram_range=(4,5))\n",
        "tfidf_ngram.fit(X_train)\n",
        "\n",
        "X_train_tfidf_ngram=tfidf_ngram.transform(X_train)\n",
        "X_test_tfidf_ngram=tfidf_ngram.transform(X_test)"
      ]
    },
    {
      "cell_type": "markdown",
      "metadata": {
        "id": "3Mwr2jaNH1IM"
      },
      "source": [
        "# Word2Vec Models"
      ]
    },
    {
      "cell_type": "code",
      "execution_count": null,
      "metadata": {
        "id": "KC0IJfZJH3fd"
      },
      "outputs": [],
      "source": [
        "from gensim.models import Word2Vec"
      ]
    },
    {
      "cell_type": "code",
      "execution_count": null,
      "metadata": {
        "id": "pn8Vs3CzIkLE"
      },
      "outputs": [],
      "source": [
        "w2v=Word2Vec(df['tokenized_cleanquestion'], min_count=2)"
      ]
    },
    {
      "cell_type": "code",
      "execution_count": null,
      "metadata": {
        "colab": {
          "base_uri": "https://localhost:8080/"
        },
        "id": "TXPJImn7JL15",
        "outputId": "79cd3b5c-d17c-420b-843a-2cccb6a46bc1"
      },
      "outputs": [
        {
          "output_type": "stream",
          "name": "stdout",
          "text": [
            "3109\n"
          ]
        }
      ],
      "source": [
        "words= list(w2v.wv.vocab)\n",
        "print(len(words))"
      ]
    },
    {
      "cell_type": "code",
      "execution_count": null,
      "metadata": {
        "id": "eORuT6ezKaVF"
      },
      "outputs": [],
      "source": [
        "num_features = 100\n",
        "\n",
        "def average_word_vectors(tokens, model, vocabulary, num_features):\n",
        "    feature_vector = np.zeros((num_features,), dtype=\"float64\")\n",
        "    ntokens = 0.\n",
        "    for t in tokens:\n",
        "        if t in vocabulary: \n",
        "            ntokens = ntokens + 1.\n",
        "            feature_vector = np.add(feature_vector, model.wv[t])\n",
        "    if ntokens:\n",
        "        feature_vector = np.divide(feature_vector, ntokens)\n",
        "    return feature_vector"
      ]
    },
    {
      "cell_type": "markdown",
      "metadata": {
        "id": "XiOhxmwMLcSE"
      },
      "source": [
        "#Training data on Word2Vec models"
      ]
    },
    {
      "cell_type": "code",
      "execution_count": null,
      "metadata": {
        "id": "A2iZgIkqLhbj"
      },
      "outputs": [],
      "source": [
        "X_train_w2v, X_test_w2v, Y_train_w2v, Y_test_w2v= train_test_split(np.array(df['tokenized_cleanquestion']), np.array(df['topic']),test_size=0.2, random_state=42)"
      ]
    },
    {
      "cell_type": "code",
      "execution_count": null,
      "metadata": {
        "colab": {
          "base_uri": "https://localhost:8080/"
        },
        "id": "sWro_eG3K9y3",
        "outputId": "9afbbd59-3a42-4512-f092-07ffd96c68b5"
      },
      "outputs": [
        {
          "output_type": "stream",
          "name": "stdout",
          "text": [
            "Train features shape: (4000, 100) \n",
            "Test features shape: (1000, 100)\n"
          ]
        }
      ],
      "source": [
        "w2v_train_x = [average_word_vectors(sent_tokens, w2v, words, num_features) \n",
        "               for sent_tokens in X_train_w2v]\n",
        "avg_w2v_train_x = np.array(w2v_train_x)\n",
        "\n",
        "w2v_test_x = [average_word_vectors(sent_tokens, w2v, words, num_features) \n",
        "              for sent_tokens in X_test_w2v]\n",
        "avg_w2v_test_x = np.array(w2v_test_x)\n",
        "\n",
        "print('Train features shape:', avg_w2v_train_x.shape, \n",
        "      '\\nTest features shape:', avg_w2v_test_x.shape)"
      ]
    },
    {
      "cell_type": "markdown",
      "metadata": {
        "id": "HF83maI_M30a"
      },
      "source": [
        "# Doc2Vec Models"
      ]
    },
    {
      "cell_type": "code",
      "execution_count": null,
      "metadata": {
        "id": "C0Ok_Uo9M6Pz"
      },
      "outputs": [],
      "source": [
        "from gensim.models.doc2vec import Doc2Vec, TaggedDocument\n",
        "\n",
        "docs = [TaggedDocument(doc, [i]) for i, doc in enumerate(X_train_w2v)]\n",
        "d2v = Doc2Vec(vector_size=100, window=3, min_count=4, workers=4, epochs=40)\n",
        "d2v.build_vocab(docs)\n",
        "d2v.train(docs, total_examples=d2v.corpus_count, epochs=d2v.epochs)"
      ]
    },
    {
      "cell_type": "code",
      "execution_count": null,
      "metadata": {
        "id": "-6LVy4rrP2nd"
      },
      "outputs": [],
      "source": [
        "d2v_train_x = [d2v.infer_vector(i) for i in X_train_w2v]\n",
        "d2v_test_x =  [d2v.infer_vector(i) for i in X_test_w2v]"
      ]
    },
    {
      "cell_type": "markdown",
      "metadata": {
        "id": "Qkmx-WRlQJP3"
      },
      "source": [
        "# Defining a function for all models."
      ]
    },
    {
      "cell_type": "code",
      "execution_count": null,
      "metadata": {
        "id": "dz8liyT9QIda"
      },
      "outputs": [],
      "source": [
        "from sklearn.metrics import accuracy_score, precision_score, recall_score\n",
        "from sklearn.metrics import confusion_matrix, classification_report\n",
        "\n",
        "def model(classifier, X_train, X_test):\n",
        "    classifier.fit(X_train, y_train)  \n",
        "    y_pred = classifier.predict(X_test)\n",
        "    accuracy = accuracy_score(y_test, y_pred)\n",
        "    precision=precision_score(y_test, y_pred,average='weighted')\n",
        "    \n",
        "    print('Accuracy: {:.3f}\\n'.format(accuracy))\n",
        "    print(confusion_matrix(y_test, y_pred))\n",
        "    print(classification_report(y_test, y_pred))\n",
        "\n",
        "    return precision"
      ]
    },
    {
      "cell_type": "code",
      "source": [
        "Precision=[]"
      ],
      "metadata": {
        "id": "VGRnTAj52_JK"
      },
      "execution_count": null,
      "outputs": []
    },
    {
      "cell_type": "markdown",
      "metadata": {
        "id": "SXREij5fQQl0"
      },
      "source": [
        "# Model 1: Logistic Regression Model"
      ]
    },
    {
      "cell_type": "code",
      "execution_count": null,
      "metadata": {
        "id": "2Erd7fwcQSQR"
      },
      "outputs": [],
      "source": [
        "from sklearn.linear_model import LogisticRegression"
      ]
    },
    {
      "cell_type": "code",
      "execution_count": null,
      "metadata": {
        "id": "n_A4ufwrQWDm"
      },
      "outputs": [],
      "source": [
        "Logistic_Regression= LogisticRegression(C=10, class_weight=None, dual=False, fit_intercept=True,\n",
        "     intercept_scaling=1, max_iter=100, multi_class='ovr', \n",
        "     penalty='l2', random_state=None, solver='liblinear', tol=0.0001,\n",
        "     verbose=0)"
      ]
    },
    {
      "cell_type": "markdown",
      "metadata": {
        "id": "7hbZ_lLyVNEz"
      },
      "source": [
        "## tfidf -unigram"
      ]
    },
    {
      "cell_type": "code",
      "execution_count": null,
      "metadata": {
        "colab": {
          "base_uri": "https://localhost:8080/"
        },
        "id": "AdYMtuAvQYch",
        "outputId": "74d1496b-8d7e-496e-d988-3000692812d4"
      },
      "outputs": [
        {
          "output_type": "stream",
          "name": "stdout",
          "text": [
            "Accuracy: 0.971\n",
            "\n",
            "[[ 92   0   0   0   0   0   0]\n",
            " [  0 163   5   3   1   0   0]\n",
            " [  0   1 152   2   0   0   0]\n",
            " [  0   3  10 148   0   0   0]\n",
            " [  0   0   0   0 170   0   0]\n",
            " [  0   1   0   3   0  93   0]\n",
            " [  0   0   0   0   0   0 153]]\n",
            "              precision    recall  f1-score   support\n",
            "\n",
            "           0       1.00      1.00      1.00        92\n",
            "           1       0.97      0.95      0.96       172\n",
            "           2       0.91      0.98      0.94       155\n",
            "           3       0.95      0.92      0.93       161\n",
            "           4       0.99      1.00      1.00       170\n",
            "           5       1.00      0.96      0.98        97\n",
            "           6       1.00      1.00      1.00       153\n",
            "\n",
            "    accuracy                           0.97      1000\n",
            "   macro avg       0.97      0.97      0.97      1000\n",
            "weighted avg       0.97      0.97      0.97      1000\n",
            "\n"
          ]
        }
      ],
      "source": [
        "precision_tfidf_lr=model(Logistic_Regression, X_train_tfidf_unigram, X_test_tfidf_unigram)\n",
        "Precision.append(precision_tfidf_lr)"
      ]
    },
    {
      "cell_type": "markdown",
      "metadata": {
        "id": "UO7ueFn_Q4sv"
      },
      "source": [
        "##TFIDF - ngram"
      ]
    },
    {
      "cell_type": "code",
      "execution_count": null,
      "metadata": {
        "colab": {
          "base_uri": "https://localhost:8080/"
        },
        "id": "DnvSZTmPQvGj",
        "outputId": "aa52b43c-8a6c-45e7-c605-b17b6b754a51"
      },
      "outputs": [
        {
          "output_type": "stream",
          "name": "stdout",
          "text": [
            "Accuracy: 0.876\n",
            "\n",
            "[[ 70   0   0  22   0   0   0]\n",
            " [  0 137   0  35   0   0   0]\n",
            " [  0   0 113  42   0   0   0]\n",
            " [  0   0   5 156   0   0   0]\n",
            " [  0   0   0   2 168   0   0]\n",
            " [  0   0   0  12   0  85   0]\n",
            " [  0   0   0   6   0   0 147]]\n",
            "              precision    recall  f1-score   support\n",
            "\n",
            "           0       1.00      0.76      0.86        92\n",
            "           1       1.00      0.80      0.89       172\n",
            "           2       0.96      0.73      0.83       155\n",
            "           3       0.57      0.97      0.72       161\n",
            "           4       1.00      0.99      0.99       170\n",
            "           5       1.00      0.88      0.93        97\n",
            "           6       1.00      0.96      0.98       153\n",
            "\n",
            "    accuracy                           0.88      1000\n",
            "   macro avg       0.93      0.87      0.89      1000\n",
            "weighted avg       0.92      0.88      0.89      1000\n",
            "\n"
          ]
        }
      ],
      "source": [
        "precision_tfidfn_lr=model(Logistic_Regression, X_train_tfidf_ngram, X_test_tfidf_ngram)\n",
        "Precision.append(precision_tfidfn_lr)"
      ]
    },
    {
      "cell_type": "markdown",
      "metadata": {
        "id": "CA0QAtaZU_cv"
      },
      "source": [
        "## Word2Vec model using Average Word2Vec vectors "
      ]
    },
    {
      "cell_type": "code",
      "execution_count": null,
      "metadata": {
        "colab": {
          "base_uri": "https://localhost:8080/"
        },
        "id": "8aMD7llgU7Uw",
        "outputId": "67e5e205-81f9-4c62-c274-de26df1bdd10"
      },
      "outputs": [
        {
          "output_type": "stream",
          "name": "stdout",
          "text": [
            "Accuracy: 0.775\n",
            "\n",
            "[[ 74   6   0   2   7   2   1]\n",
            " [  0 133  12  22   0   2   3]\n",
            " [  0  28  82  42   0   1   2]\n",
            " [  1  19  36 100   0   3   2]\n",
            " [  4   0   1   4 156   1   4]\n",
            " [  2   2   0   6   1  86   0]\n",
            " [  0   2   0   1   3   3 144]]\n",
            "              precision    recall  f1-score   support\n",
            "\n",
            "           0       0.91      0.80      0.86        92\n",
            "           1       0.70      0.77      0.73       172\n",
            "           2       0.63      0.53      0.57       155\n",
            "           3       0.56      0.62      0.59       161\n",
            "           4       0.93      0.92      0.93       170\n",
            "           5       0.88      0.89      0.88        97\n",
            "           6       0.92      0.94      0.93       153\n",
            "\n",
            "    accuracy                           0.78      1000\n",
            "   macro avg       0.79      0.78      0.79      1000\n",
            "weighted avg       0.78      0.78      0.77      1000\n",
            "\n"
          ]
        }
      ],
      "source": [
        "precision_w2v_lr=model(Logistic_Regression,avg_w2v_train_x, avg_w2v_test_x )\n",
        "Precision.append(precision_w2v_lr)"
      ]
    },
    {
      "cell_type": "code",
      "source": [
        "models_list.append('Logistic_Regression')\n",
        "input_vectors.append('avg-w2v')"
      ],
      "metadata": {
        "id": "uUE6RhYhdnst"
      },
      "execution_count": null,
      "outputs": []
    },
    {
      "cell_type": "markdown",
      "metadata": {
        "id": "PxRElwZ0VXHy"
      },
      "source": [
        "## Doc2Vec vectors"
      ]
    },
    {
      "cell_type": "code",
      "execution_count": null,
      "metadata": {
        "colab": {
          "base_uri": "https://localhost:8080/"
        },
        "id": "1QmG2dDmVUy5",
        "outputId": "f2510852-d40b-4ba2-8829-fa6fc65db7f6"
      },
      "outputs": [
        {
          "output_type": "stream",
          "name": "stdout",
          "text": [
            "Accuracy: 0.610\n",
            "\n",
            "[[ 60   5   5  10   4   1   7]\n",
            " [  0 123   8  23   6   6   6]\n",
            " [  4  17  90  29  10   2   3]\n",
            " [  2  23  18 100  10   2   6]\n",
            " [  8   9  14  12  93  10  24]\n",
            " [  4  10   4  11   8  51   9]\n",
            " [  4  17   7  15  14   3  93]]\n",
            "              precision    recall  f1-score   support\n",
            "\n",
            "           0       0.73      0.65      0.69        92\n",
            "           1       0.60      0.72      0.65       172\n",
            "           2       0.62      0.58      0.60       155\n",
            "           3       0.50      0.62      0.55       161\n",
            "           4       0.64      0.55      0.59       170\n",
            "           5       0.68      0.53      0.59        97\n",
            "           6       0.63      0.61      0.62       153\n",
            "\n",
            "    accuracy                           0.61      1000\n",
            "   macro avg       0.63      0.61      0.61      1000\n",
            "weighted avg       0.62      0.61      0.61      1000\n",
            "\n"
          ]
        }
      ],
      "source": [
        "precision_d2v_lr=model(Logistic_Regression, d2v_train_x, d2v_test_x)\n",
        "Precision.append(precision_d2v_lr)"
      ]
    },
    {
      "cell_type": "markdown",
      "metadata": {
        "id": "l1DZFVdnVmV9"
      },
      "source": [
        "# Model 2: Ensemble Models"
      ]
    },
    {
      "cell_type": "markdown",
      "metadata": {
        "id": "186LiKwoVvPu"
      },
      "source": [
        "## Random Forest Models"
      ]
    },
    {
      "cell_type": "code",
      "execution_count": null,
      "metadata": {
        "id": "u0hrYQgOVqia"
      },
      "outputs": [],
      "source": [
        "from sklearn.ensemble import RandomForestClassifier"
      ]
    },
    {
      "cell_type": "code",
      "execution_count": null,
      "metadata": {
        "colab": {
          "base_uri": "https://localhost:8080/"
        },
        "id": "Vaez1rZBVzSW",
        "outputId": "d8badef9-8779-419a-a461-43504951dfa1"
      },
      "outputs": [
        {
          "output_type": "stream",
          "name": "stdout",
          "text": [
            "Accuracy: 0.974\n",
            "\n",
            "[[ 90   0   0   1   1   0   0]\n",
            " [  0 169   1   1   1   0   0]\n",
            " [  0   0 152   3   0   0   0]\n",
            " [  0   9   1 151   0   0   0]\n",
            " [  0   0   0   0 170   0   0]\n",
            " [  0   4   2   1   0  90   0]\n",
            " [  0   1   0   0   0   0 152]]\n",
            "              precision    recall  f1-score   support\n",
            "\n",
            "           0       1.00      0.98      0.99        92\n",
            "           1       0.92      0.98      0.95       172\n",
            "           2       0.97      0.98      0.98       155\n",
            "           3       0.96      0.94      0.95       161\n",
            "           4       0.99      1.00      0.99       170\n",
            "           5       1.00      0.93      0.96        97\n",
            "           6       1.00      0.99      1.00       153\n",
            "\n",
            "    accuracy                           0.97      1000\n",
            "   macro avg       0.98      0.97      0.97      1000\n",
            "weighted avg       0.97      0.97      0.97      1000\n",
            "\n"
          ]
        }
      ],
      "source": [
        "precision_tfidf_rf=model(RandomForestClassifier(n_estimators=200), X_train_tfidf_unigram, X_test_tfidf_unigram)\n",
        "Precision.append(precision_tfidf_rf)"
      ]
    },
    {
      "cell_type": "code",
      "execution_count": null,
      "metadata": {
        "colab": {
          "base_uri": "https://localhost:8080/"
        },
        "id": "Ww9uL1PrV18Y",
        "outputId": "759cba67-3421-4823-b138-363107c91f79"
      },
      "outputs": [
        {
          "output_type": "stream",
          "name": "stdout",
          "text": [
            "Accuracy: 0.819\n",
            "\n",
            "[[ 60   0   0  32   0   0   0]\n",
            " [  0 131   0  41   0   0   0]\n",
            " [  0   0  92  63   0   0   0]\n",
            " [  0   0   0 161   0   0   0]\n",
            " [  0   0   0   7 163   0   0]\n",
            " [  0   0   0  22   0  75   0]\n",
            " [  0   0   0  16   0   0 137]]\n",
            "              precision    recall  f1-score   support\n",
            "\n",
            "           0       1.00      0.65      0.79        92\n",
            "           1       1.00      0.76      0.86       172\n",
            "           2       1.00      0.59      0.74       155\n",
            "           3       0.47      1.00      0.64       161\n",
            "           4       1.00      0.96      0.98       170\n",
            "           5       1.00      0.77      0.87        97\n",
            "           6       1.00      0.90      0.94       153\n",
            "\n",
            "    accuracy                           0.82      1000\n",
            "   macro avg       0.92      0.80      0.83      1000\n",
            "weighted avg       0.91      0.82      0.84      1000\n",
            "\n"
          ]
        }
      ],
      "source": [
        "precision_tfidfn_rf=model(RandomForestClassifier(n_estimators=200), X_train_tfidf_ngram, X_test_tfidf_ngram)\n",
        "Precision.append(precision_tfidfn_rf)"
      ]
    },
    {
      "cell_type": "code",
      "execution_count": null,
      "metadata": {
        "colab": {
          "base_uri": "https://localhost:8080/"
        },
        "id": "SuHSeVk5V5Rk",
        "outputId": "268f8503-7351-409a-c9a7-2bedc3cb31ef"
      },
      "outputs": [
        {
          "output_type": "stream",
          "name": "stdout",
          "text": [
            "Accuracy: 0.872\n",
            "\n",
            "[[ 77   2   0   3   7   2   1]\n",
            " [  1 150  11   9   0   1   0]\n",
            " [  1   5 121  25   0   2   1]\n",
            " [  1  11  27 121   0   1   0]\n",
            " [  0   1   1   1 167   0   0]\n",
            " [  0   1   1   6   1  88   0]\n",
            " [  0   0   1   1   2   1 148]]\n",
            "              precision    recall  f1-score   support\n",
            "\n",
            "           0       0.96      0.84      0.90        92\n",
            "           1       0.88      0.87      0.88       172\n",
            "           2       0.75      0.78      0.76       155\n",
            "           3       0.73      0.75      0.74       161\n",
            "           4       0.94      0.98      0.96       170\n",
            "           5       0.93      0.91      0.92        97\n",
            "           6       0.99      0.97      0.98       153\n",
            "\n",
            "    accuracy                           0.87      1000\n",
            "   macro avg       0.88      0.87      0.88      1000\n",
            "weighted avg       0.87      0.87      0.87      1000\n",
            "\n"
          ]
        }
      ],
      "source": [
        "precision_w2v_rf=model(RandomForestClassifier(n_estimators=200),avg_w2v_train_x, avg_w2v_test_x)\n",
        "Precision.append(precision_w2v_rf)"
      ]
    },
    {
      "cell_type": "code",
      "execution_count": null,
      "metadata": {
        "colab": {
          "base_uri": "https://localhost:8080/"
        },
        "id": "30Qwnn5AV9sy",
        "outputId": "564fe695-f38a-42b8-ad2f-7e486725ab01"
      },
      "outputs": [
        {
          "output_type": "stream",
          "name": "stdout",
          "text": [
            "Accuracy: 0.773\n",
            "\n",
            "[[ 78   5   1   2   2   1   3]\n",
            " [  1 147   6   8   6   2   2]\n",
            " [  1   8 107  22  10   2   5]\n",
            " [  2  12  16 120   7   0   4]\n",
            " [  3   3  10   6 133   3  12]\n",
            " [  2   5   1   9   4  66  10]\n",
            " [  1   2   9  10   8   1 122]]\n",
            "              precision    recall  f1-score   support\n",
            "\n",
            "           0       0.89      0.85      0.87        92\n",
            "           1       0.81      0.85      0.83       172\n",
            "           2       0.71      0.69      0.70       155\n",
            "           3       0.68      0.75      0.71       161\n",
            "           4       0.78      0.78      0.78       170\n",
            "           5       0.88      0.68      0.77        97\n",
            "           6       0.77      0.80      0.78       153\n",
            "\n",
            "    accuracy                           0.77      1000\n",
            "   macro avg       0.79      0.77      0.78      1000\n",
            "weighted avg       0.78      0.77      0.77      1000\n",
            "\n"
          ]
        }
      ],
      "source": [
        "precision_d2v_rf=model(RandomForestClassifier(n_estimators=200), d2v_train_x, d2v_test_x)\n",
        "Precision.append(precision_d2v_rf)"
      ]
    },
    {
      "cell_type": "markdown",
      "metadata": {
        "id": "jv3IhlUPWD-N"
      },
      "source": [
        "# Model 3: Ensemble model with Adaboost Classifier"
      ]
    },
    {
      "cell_type": "code",
      "execution_count": null,
      "metadata": {
        "id": "8sQJMgtEWL38"
      },
      "outputs": [],
      "source": [
        "from sklearn.ensemble import AdaBoostClassifier"
      ]
    },
    {
      "cell_type": "code",
      "execution_count": null,
      "metadata": {
        "id": "XaLR42HrWp_v"
      },
      "outputs": [],
      "source": [
        "adaboost_classifier= AdaBoostClassifier( n_estimators=100, random_state=42)"
      ]
    },
    {
      "cell_type": "code",
      "execution_count": null,
      "metadata": {
        "colab": {
          "base_uri": "https://localhost:8080/"
        },
        "id": "53Q_iTNFWv0E",
        "outputId": "c9571742-899b-4e38-99fe-d20b9923c946"
      },
      "outputs": [
        {
          "output_type": "stream",
          "name": "stdout",
          "text": [
            "Accuracy: 0.494\n",
            "\n",
            "[[ 59   1   0   1  13  18   0]\n",
            " [  0   3   0 168   1   0   0]\n",
            " [  0   0   0 154   0   1   0]\n",
            " [  0   0   0 160   0   1   0]\n",
            " [  0   1   0  27 101  35   6]\n",
            " [  0   0   0  53   0  32  12]\n",
            " [  0   2   0  10   0   2 139]]\n",
            "              precision    recall  f1-score   support\n",
            "\n",
            "           0       1.00      0.64      0.78        92\n",
            "           1       0.43      0.02      0.03       172\n",
            "           2       0.00      0.00      0.00       155\n",
            "           3       0.28      0.99      0.44       161\n",
            "           4       0.88      0.59      0.71       170\n",
            "           5       0.36      0.33      0.34        97\n",
            "           6       0.89      0.91      0.90       153\n",
            "\n",
            "    accuracy                           0.49      1000\n",
            "   macro avg       0.55      0.50      0.46      1000\n",
            "weighted avg       0.53      0.49      0.44      1000\n",
            "\n"
          ]
        },
        {
          "output_type": "stream",
          "name": "stderr",
          "text": [
            "Precision is ill-defined and being set to 0.0 in labels with no predicted samples. Use `zero_division` parameter to control this behavior.\n",
            "Precision and F-score are ill-defined and being set to 0.0 in labels with no predicted samples. Use `zero_division` parameter to control this behavior.\n",
            "Precision and F-score are ill-defined and being set to 0.0 in labels with no predicted samples. Use `zero_division` parameter to control this behavior.\n",
            "Precision and F-score are ill-defined and being set to 0.0 in labels with no predicted samples. Use `zero_division` parameter to control this behavior.\n"
          ]
        }
      ],
      "source": [
        "precision_tfidf_ab=model(adaboost_classifier, X_train_tfidf_unigram, X_test_tfidf_unigram)\n",
        "Precision.append(precision_tfidf_ab)"
      ]
    },
    {
      "cell_type": "code",
      "execution_count": null,
      "metadata": {
        "colab": {
          "base_uri": "https://localhost:8080/"
        },
        "id": "WBM9FrHIWy_U",
        "outputId": "c670f6b8-df3c-4695-f274-b36ef2ad88ca"
      },
      "outputs": [
        {
          "output_type": "stream",
          "name": "stdout",
          "text": [
            "Accuracy: 0.491\n",
            "\n",
            "[[ 47   0   0  45   0   0   0]\n",
            " [  0   9   0 163   0   0   0]\n",
            " [  0   0  22 133   0   0   0]\n",
            " [  0   0   0 161   0   0   0]\n",
            " [  0   0   0  27 143   0   0]\n",
            " [  0   0   0  80   0  17   0]\n",
            " [  0   0   0  61   0   0  92]]\n",
            "              precision    recall  f1-score   support\n",
            "\n",
            "           0       1.00      0.51      0.68        92\n",
            "           1       1.00      0.05      0.10       172\n",
            "           2       1.00      0.14      0.25       155\n",
            "           3       0.24      1.00      0.39       161\n",
            "           4       1.00      0.84      0.91       170\n",
            "           5       1.00      0.18      0.30        97\n",
            "           6       1.00      0.60      0.75       153\n",
            "\n",
            "    accuracy                           0.49      1000\n",
            "   macro avg       0.89      0.47      0.48      1000\n",
            "weighted avg       0.88      0.49      0.48      1000\n",
            "\n"
          ]
        }
      ],
      "source": [
        "precision_tfidfn_ab=model(adaboost_classifier, X_train_tfidf_ngram, X_test_tfidf_ngram)\n",
        "Precision.append(precision_tfidfn_ab)"
      ]
    },
    {
      "cell_type": "code",
      "execution_count": null,
      "metadata": {
        "colab": {
          "base_uri": "https://localhost:8080/"
        },
        "id": "RaKa4nsXW27K",
        "outputId": "183c72d1-e71b-465a-e195-7479de8b7128"
      },
      "outputs": [
        {
          "output_type": "stream",
          "name": "stdout",
          "text": [
            "Accuracy: 0.521\n",
            "\n",
            "[[ 67   5   6   3   4   7   0]\n",
            " [  3  71  53  38   2   5   0]\n",
            " [  1  24  85  42   0   2   1]\n",
            " [  3  22  82  47   0   6   1]\n",
            " [ 83   3   0  12  47   7  18]\n",
            " [  5   4   3   6   2  77   0]\n",
            " [  9   0   1   5   9   2 127]]\n",
            "              precision    recall  f1-score   support\n",
            "\n",
            "           0       0.39      0.73      0.51        92\n",
            "           1       0.55      0.41      0.47       172\n",
            "           2       0.37      0.55      0.44       155\n",
            "           3       0.31      0.29      0.30       161\n",
            "           4       0.73      0.28      0.40       170\n",
            "           5       0.73      0.79      0.76        97\n",
            "           6       0.86      0.83      0.85       153\n",
            "\n",
            "    accuracy                           0.52      1000\n",
            "   macro avg       0.56      0.55      0.53      1000\n",
            "weighted avg       0.56      0.52      0.52      1000\n",
            "\n"
          ]
        }
      ],
      "source": [
        "precision_w2v_ab=model(adaboost_classifier,avg_w2v_train_x, avg_w2v_test_x )\n",
        "Precision.append(precision_w2v_ab)"
      ]
    },
    {
      "cell_type": "code",
      "execution_count": null,
      "metadata": {
        "colab": {
          "base_uri": "https://localhost:8080/"
        },
        "id": "8OL-QkknW-h7",
        "outputId": "d795d4a5-246a-4b70-863d-fe6e9b41ec13"
      },
      "outputs": [
        {
          "output_type": "stream",
          "name": "stdout",
          "text": [
            "Accuracy: 0.492\n",
            "\n",
            "[[ 63   6   5   6   5   2   5]\n",
            " [  2 109   9  25   9   9   9]\n",
            " [  4  19  51  36  22   8  15]\n",
            " [  2  22  23  75  14  14  11]\n",
            " [  9   8  26  21  70   5  31]\n",
            " [  6  12   6  11   9  44   9]\n",
            " [  4  14   9  18  22   6  80]]\n",
            "              precision    recall  f1-score   support\n",
            "\n",
            "           0       0.70      0.68      0.69        92\n",
            "           1       0.57      0.63      0.60       172\n",
            "           2       0.40      0.33      0.36       155\n",
            "           3       0.39      0.47      0.42       161\n",
            "           4       0.46      0.41      0.44       170\n",
            "           5       0.50      0.45      0.48        97\n",
            "           6       0.50      0.52      0.51       153\n",
            "\n",
            "    accuracy                           0.49      1000\n",
            "   macro avg       0.50      0.50      0.50      1000\n",
            "weighted avg       0.49      0.49      0.49      1000\n",
            "\n"
          ]
        }
      ],
      "source": [
        "precision_d2v_ab=model(adaboost_classifier, d2v_train_x, d2v_test_x)\n",
        "Precision.append(precision_d2v_ab)"
      ]
    },
    {
      "cell_type": "markdown",
      "metadata": {
        "id": "azmQm9xVYZ6x"
      },
      "source": [
        "**Considering the above results and 'precision' to be chosen performance metric. I choose Random Forest Classifier with tf-idf unigram input vectors as best classifier model.**"
      ]
    },
    {
      "cell_type": "markdown",
      "metadata": {
        "id": "7herBxu9Ywxp"
      },
      "source": [
        "# Explainable AI: Using SHAP"
      ]
    },
    {
      "cell_type": "code",
      "execution_count": null,
      "metadata": {
        "colab": {
          "base_uri": "https://localhost:8080/"
        },
        "id": "8QGeMUB2ZEw2",
        "outputId": "2d62c8e8-24f8-48f3-88a8-e2df399ab074"
      },
      "outputs": [
        {
          "output_type": "stream",
          "name": "stdout",
          "text": [
            "Looking in indexes: https://pypi.org/simple, https://us-python.pkg.dev/colab-wheels/public/simple/\n",
            "Requirement already satisfied: shap in /usr/local/lib/python3.7/dist-packages (0.41.0)\n",
            "Requirement already satisfied: scipy in /usr/local/lib/python3.7/dist-packages (from shap) (1.7.3)\n",
            "Requirement already satisfied: cloudpickle in /usr/local/lib/python3.7/dist-packages (from shap) (1.5.0)\n",
            "Requirement already satisfied: numba in /usr/local/lib/python3.7/dist-packages (from shap) (0.56.3)\n",
            "Requirement already satisfied: numpy in /usr/local/lib/python3.7/dist-packages (from shap) (1.21.6)\n",
            "Requirement already satisfied: pandas in /usr/local/lib/python3.7/dist-packages (from shap) (1.3.5)\n",
            "Requirement already satisfied: slicer==0.0.7 in /usr/local/lib/python3.7/dist-packages (from shap) (0.0.7)\n",
            "Requirement already satisfied: scikit-learn in /usr/local/lib/python3.7/dist-packages (from shap) (1.0.2)\n",
            "Requirement already satisfied: packaging>20.9 in /usr/local/lib/python3.7/dist-packages (from shap) (21.3)\n",
            "Requirement already satisfied: tqdm>4.25.0 in /usr/local/lib/python3.7/dist-packages (from shap) (4.64.1)\n",
            "Requirement already satisfied: pyparsing!=3.0.5,>=2.0.2 in /usr/local/lib/python3.7/dist-packages (from packaging>20.9->shap) (3.0.9)\n",
            "Requirement already satisfied: importlib-metadata in /usr/local/lib/python3.7/dist-packages (from numba->shap) (4.13.0)\n",
            "Requirement already satisfied: llvmlite<0.40,>=0.39.0dev0 in /usr/local/lib/python3.7/dist-packages (from numba->shap) (0.39.1)\n",
            "Requirement already satisfied: setuptools in /usr/local/lib/python3.7/dist-packages (from numba->shap) (57.4.0)\n",
            "Requirement already satisfied: typing-extensions>=3.6.4 in /usr/local/lib/python3.7/dist-packages (from importlib-metadata->numba->shap) (4.1.1)\n",
            "Requirement already satisfied: zipp>=0.5 in /usr/local/lib/python3.7/dist-packages (from importlib-metadata->numba->shap) (3.9.0)\n",
            "Requirement already satisfied: pytz>=2017.3 in /usr/local/lib/python3.7/dist-packages (from pandas->shap) (2022.4)\n",
            "Requirement already satisfied: python-dateutil>=2.7.3 in /usr/local/lib/python3.7/dist-packages (from pandas->shap) (2.8.2)\n",
            "Requirement already satisfied: six>=1.5 in /usr/local/lib/python3.7/dist-packages (from python-dateutil>=2.7.3->pandas->shap) (1.15.0)\n",
            "Requirement already satisfied: threadpoolctl>=2.0.0 in /usr/local/lib/python3.7/dist-packages (from scikit-learn->shap) (3.1.0)\n",
            "Requirement already satisfied: joblib>=0.11 in /usr/local/lib/python3.7/dist-packages (from scikit-learn->shap) (1.2.0)\n"
          ]
        }
      ],
      "source": [
        "!pip install shap"
      ]
    },
    {
      "cell_type": "code",
      "execution_count": null,
      "metadata": {
        "id": "U595YY5nYeZR"
      },
      "outputs": [],
      "source": [
        "best_model=RandomForestClassifier(n_estimators=200).fit(X_train_tfidf_unigram,y_train)"
      ]
    },
    {
      "cell_type": "code",
      "execution_count": null,
      "metadata": {
        "colab": {
          "base_uri": "https://localhost:8080/",
          "height": 1000,
          "referenced_widgets": [
            "673500d58d69444c8b3d9bd2a0f5f507",
            "3faf843c0b4b4f58aedfed0eb03b1728",
            "fedfc59add8d44e191148716eeb349d1",
            "47c3a907e07346dbb7d4a0fd127c671f",
            "b96b2813fb8549908a31a8d0b9c83108",
            "c9acfeb439294b69b8f39eaf1a5652d1",
            "29ab69718c364ee4951432ddcf2ffbf2",
            "dc13aa3efa5c4ec3925e3858c87d2d76",
            "51f6175da2a94076ae67435e41e3fecb",
            "63b71074289f47d097fc65cb1f0b6d92",
            "9bccd1946f2246f5a8251218f56961d7"
          ]
        },
        "id": "Owj5lYnXZA4M",
        "outputId": "96a87a62-d780-469c-d77f-1d763bb386ca"
      },
      "outputs": [
        {
          "output_type": "stream",
          "name": "stderr",
          "text": [
            "WARNING:shap:Using 150 background data samples could cause slower run times. Consider using shap.sample(data, K) or shap.kmeans(data, K) to summarize the background as K samples.\n"
          ]
        },
        {
          "output_type": "display_data",
          "data": {
            "text/plain": [
              "  0%|          | 0/15 [00:00<?, ?it/s]"
            ],
            "application/vnd.jupyter.widget-view+json": {
              "version_major": 2,
              "version_minor": 0,
              "model_id": "673500d58d69444c8b3d9bd2a0f5f507"
            }
          },
          "metadata": {}
        },
        {
          "output_type": "stream",
          "name": "stderr",
          "text": [
            "The default of 'normalize' will be set to False in version 1.2 and deprecated in version 1.4.\n",
            "If you wish to scale the data, use Pipeline with a StandardScaler in a preprocessing stage. To reproduce the previous behavior:\n",
            "\n",
            "from sklearn.pipeline import make_pipeline\n",
            "\n",
            "model = make_pipeline(StandardScaler(with_mean=False), LassoLarsIC())\n",
            "\n",
            "If you wish to pass a sample_weight parameter, you need to pass it as a fit parameter to each step of the pipeline as follows:\n",
            "\n",
            "kwargs = {s[0] + '__sample_weight': sample_weight for s in model.steps}\n",
            "model.fit(X, y, **kwargs)\n",
            "\n",
            "Set parameter alpha to: original_alpha * np.sqrt(n_samples). \n",
            "The default of 'normalize' will be set to False in version 1.2 and deprecated in version 1.4.\n",
            "If you wish to scale the data, use Pipeline with a StandardScaler in a preprocessing stage. To reproduce the previous behavior:\n",
            "\n",
            "from sklearn.pipeline import make_pipeline\n",
            "\n",
            "model = make_pipeline(StandardScaler(with_mean=False), LassoLarsIC())\n",
            "\n",
            "If you wish to pass a sample_weight parameter, you need to pass it as a fit parameter to each step of the pipeline as follows:\n",
            "\n",
            "kwargs = {s[0] + '__sample_weight': sample_weight for s in model.steps}\n",
            "model.fit(X, y, **kwargs)\n",
            "\n",
            "Set parameter alpha to: original_alpha * np.sqrt(n_samples). \n",
            "The default of 'normalize' will be set to False in version 1.2 and deprecated in version 1.4.\n",
            "If you wish to scale the data, use Pipeline with a StandardScaler in a preprocessing stage. To reproduce the previous behavior:\n",
            "\n",
            "from sklearn.pipeline import make_pipeline\n",
            "\n",
            "model = make_pipeline(StandardScaler(with_mean=False), LassoLarsIC())\n",
            "\n",
            "If you wish to pass a sample_weight parameter, you need to pass it as a fit parameter to each step of the pipeline as follows:\n",
            "\n",
            "kwargs = {s[0] + '__sample_weight': sample_weight for s in model.steps}\n",
            "model.fit(X, y, **kwargs)\n",
            "\n",
            "Set parameter alpha to: original_alpha * np.sqrt(n_samples). \n",
            "The default of 'normalize' will be set to False in version 1.2 and deprecated in version 1.4.\n",
            "If you wish to scale the data, use Pipeline with a StandardScaler in a preprocessing stage. To reproduce the previous behavior:\n",
            "\n",
            "from sklearn.pipeline import make_pipeline\n",
            "\n",
            "model = make_pipeline(StandardScaler(with_mean=False), LassoLarsIC())\n",
            "\n",
            "If you wish to pass a sample_weight parameter, you need to pass it as a fit parameter to each step of the pipeline as follows:\n",
            "\n",
            "kwargs = {s[0] + '__sample_weight': sample_weight for s in model.steps}\n",
            "model.fit(X, y, **kwargs)\n",
            "\n",
            "Set parameter alpha to: original_alpha * np.sqrt(n_samples). \n",
            "The default of 'normalize' will be set to False in version 1.2 and deprecated in version 1.4.\n",
            "If you wish to scale the data, use Pipeline with a StandardScaler in a preprocessing stage. To reproduce the previous behavior:\n",
            "\n",
            "from sklearn.pipeline import make_pipeline\n",
            "\n",
            "model = make_pipeline(StandardScaler(with_mean=False), LassoLarsIC())\n",
            "\n",
            "If you wish to pass a sample_weight parameter, you need to pass it as a fit parameter to each step of the pipeline as follows:\n",
            "\n",
            "kwargs = {s[0] + '__sample_weight': sample_weight for s in model.steps}\n",
            "model.fit(X, y, **kwargs)\n",
            "\n",
            "Set parameter alpha to: original_alpha * np.sqrt(n_samples). \n",
            "The default of 'normalize' will be set to False in version 1.2 and deprecated in version 1.4.\n",
            "If you wish to scale the data, use Pipeline with a StandardScaler in a preprocessing stage. To reproduce the previous behavior:\n",
            "\n",
            "from sklearn.pipeline import make_pipeline\n",
            "\n",
            "model = make_pipeline(StandardScaler(with_mean=False), LassoLarsIC())\n",
            "\n",
            "If you wish to pass a sample_weight parameter, you need to pass it as a fit parameter to each step of the pipeline as follows:\n",
            "\n",
            "kwargs = {s[0] + '__sample_weight': sample_weight for s in model.steps}\n",
            "model.fit(X, y, **kwargs)\n",
            "\n",
            "Set parameter alpha to: original_alpha * np.sqrt(n_samples). \n",
            "The default of 'normalize' will be set to False in version 1.2 and deprecated in version 1.4.\n",
            "If you wish to scale the data, use Pipeline with a StandardScaler in a preprocessing stage. To reproduce the previous behavior:\n",
            "\n",
            "from sklearn.pipeline import make_pipeline\n",
            "\n",
            "model = make_pipeline(StandardScaler(with_mean=False), LassoLarsIC())\n",
            "\n",
            "If you wish to pass a sample_weight parameter, you need to pass it as a fit parameter to each step of the pipeline as follows:\n",
            "\n",
            "kwargs = {s[0] + '__sample_weight': sample_weight for s in model.steps}\n",
            "model.fit(X, y, **kwargs)\n",
            "\n",
            "Set parameter alpha to: original_alpha * np.sqrt(n_samples). \n",
            "The default of 'normalize' will be set to False in version 1.2 and deprecated in version 1.4.\n",
            "If you wish to scale the data, use Pipeline with a StandardScaler in a preprocessing stage. To reproduce the previous behavior:\n",
            "\n",
            "from sklearn.pipeline import make_pipeline\n",
            "\n",
            "model = make_pipeline(StandardScaler(with_mean=False), LassoLarsIC())\n",
            "\n",
            "If you wish to pass a sample_weight parameter, you need to pass it as a fit parameter to each step of the pipeline as follows:\n",
            "\n",
            "kwargs = {s[0] + '__sample_weight': sample_weight for s in model.steps}\n",
            "model.fit(X, y, **kwargs)\n",
            "\n",
            "Set parameter alpha to: original_alpha * np.sqrt(n_samples). \n",
            "The default of 'normalize' will be set to False in version 1.2 and deprecated in version 1.4.\n",
            "If you wish to scale the data, use Pipeline with a StandardScaler in a preprocessing stage. To reproduce the previous behavior:\n",
            "\n",
            "from sklearn.pipeline import make_pipeline\n",
            "\n",
            "model = make_pipeline(StandardScaler(with_mean=False), LassoLarsIC())\n",
            "\n",
            "If you wish to pass a sample_weight parameter, you need to pass it as a fit parameter to each step of the pipeline as follows:\n",
            "\n",
            "kwargs = {s[0] + '__sample_weight': sample_weight for s in model.steps}\n",
            "model.fit(X, y, **kwargs)\n",
            "\n",
            "Set parameter alpha to: original_alpha * np.sqrt(n_samples). \n",
            "The default of 'normalize' will be set to False in version 1.2 and deprecated in version 1.4.\n",
            "If you wish to scale the data, use Pipeline with a StandardScaler in a preprocessing stage. To reproduce the previous behavior:\n",
            "\n",
            "from sklearn.pipeline import make_pipeline\n",
            "\n",
            "model = make_pipeline(StandardScaler(with_mean=False), LassoLarsIC())\n",
            "\n",
            "If you wish to pass a sample_weight parameter, you need to pass it as a fit parameter to each step of the pipeline as follows:\n",
            "\n",
            "kwargs = {s[0] + '__sample_weight': sample_weight for s in model.steps}\n",
            "model.fit(X, y, **kwargs)\n",
            "\n",
            "Set parameter alpha to: original_alpha * np.sqrt(n_samples). \n",
            "The default of 'normalize' will be set to False in version 1.2 and deprecated in version 1.4.\n",
            "If you wish to scale the data, use Pipeline with a StandardScaler in a preprocessing stage. To reproduce the previous behavior:\n",
            "\n",
            "from sklearn.pipeline import make_pipeline\n",
            "\n",
            "model = make_pipeline(StandardScaler(with_mean=False), LassoLarsIC())\n",
            "\n",
            "If you wish to pass a sample_weight parameter, you need to pass it as a fit parameter to each step of the pipeline as follows:\n",
            "\n",
            "kwargs = {s[0] + '__sample_weight': sample_weight for s in model.steps}\n",
            "model.fit(X, y, **kwargs)\n",
            "\n",
            "Set parameter alpha to: original_alpha * np.sqrt(n_samples). \n",
            "The default of 'normalize' will be set to False in version 1.2 and deprecated in version 1.4.\n",
            "If you wish to scale the data, use Pipeline with a StandardScaler in a preprocessing stage. To reproduce the previous behavior:\n",
            "\n",
            "from sklearn.pipeline import make_pipeline\n",
            "\n",
            "model = make_pipeline(StandardScaler(with_mean=False), LassoLarsIC())\n",
            "\n",
            "If you wish to pass a sample_weight parameter, you need to pass it as a fit parameter to each step of the pipeline as follows:\n",
            "\n",
            "kwargs = {s[0] + '__sample_weight': sample_weight for s in model.steps}\n",
            "model.fit(X, y, **kwargs)\n",
            "\n",
            "Set parameter alpha to: original_alpha * np.sqrt(n_samples). \n",
            "The default of 'normalize' will be set to False in version 1.2 and deprecated in version 1.4.\n",
            "If you wish to scale the data, use Pipeline with a StandardScaler in a preprocessing stage. To reproduce the previous behavior:\n",
            "\n",
            "from sklearn.pipeline import make_pipeline\n",
            "\n",
            "model = make_pipeline(StandardScaler(with_mean=False), LassoLarsIC())\n",
            "\n",
            "If you wish to pass a sample_weight parameter, you need to pass it as a fit parameter to each step of the pipeline as follows:\n",
            "\n",
            "kwargs = {s[0] + '__sample_weight': sample_weight for s in model.steps}\n",
            "model.fit(X, y, **kwargs)\n",
            "\n",
            "Set parameter alpha to: original_alpha * np.sqrt(n_samples). \n",
            "The default of 'normalize' will be set to False in version 1.2 and deprecated in version 1.4.\n",
            "If you wish to scale the data, use Pipeline with a StandardScaler in a preprocessing stage. To reproduce the previous behavior:\n",
            "\n",
            "from sklearn.pipeline import make_pipeline\n",
            "\n",
            "model = make_pipeline(StandardScaler(with_mean=False), LassoLarsIC())\n",
            "\n",
            "If you wish to pass a sample_weight parameter, you need to pass it as a fit parameter to each step of the pipeline as follows:\n",
            "\n",
            "kwargs = {s[0] + '__sample_weight': sample_weight for s in model.steps}\n",
            "model.fit(X, y, **kwargs)\n",
            "\n",
            "Set parameter alpha to: original_alpha * np.sqrt(n_samples). \n",
            "The default of 'normalize' will be set to False in version 1.2 and deprecated in version 1.4.\n",
            "If you wish to scale the data, use Pipeline with a StandardScaler in a preprocessing stage. To reproduce the previous behavior:\n",
            "\n",
            "from sklearn.pipeline import make_pipeline\n",
            "\n",
            "model = make_pipeline(StandardScaler(with_mean=False), LassoLarsIC())\n",
            "\n",
            "If you wish to pass a sample_weight parameter, you need to pass it as a fit parameter to each step of the pipeline as follows:\n",
            "\n",
            "kwargs = {s[0] + '__sample_weight': sample_weight for s in model.steps}\n",
            "model.fit(X, y, **kwargs)\n",
            "\n",
            "Set parameter alpha to: original_alpha * np.sqrt(n_samples). \n"
          ]
        }
      ],
      "source": [
        "import shap\n",
        "\n",
        "\n",
        "#  Creating samples\n",
        "\n",
        "X_train_sample= shap.sample(X_train_tfidf_unigram, 150)\n",
        "X_test_sample=shap.sample(X_test_tfidf_unigram, 15)\n",
        "\n",
        "\n",
        "exp = shap.KernelExplainer(best_model.predict, X_train_sample)\n",
        "\n",
        "\n",
        "shap_values = exp.shap_values(X_test_sample)"
      ]
    },
    {
      "cell_type": "code",
      "source": [
        "color_test = pd.DataFrame(X_test_sample.todense())\n",
        "\n",
        "shap.summary_plot(shap_values, color_test, feature_names=tfidf_vect.get_feature_names(), plot_type=\"bar\")"
      ],
      "metadata": {
        "colab": {
          "base_uri": "https://localhost:8080/",
          "height": 730
        },
        "id": "nHqfXNXX-YZb",
        "outputId": "5e8c8186-37fa-4183-dac9-099917b0b5a2"
      },
      "execution_count": null,
      "outputs": [
        {
          "output_type": "stream",
          "name": "stderr",
          "text": [
            "Function get_feature_names is deprecated; get_feature_names is deprecated in 1.0 and will be removed in 1.2. Please use get_feature_names_out instead.\n"
          ]
        },
        {
          "output_type": "display_data",
          "data": {
            "text/plain": [
              "<Figure size 576x684 with 1 Axes>"
            ],
            "image/png": "[encoded data removed]"
          },
          "metadata": {
            "needs_background": "light"
          }
        }
      ]
    },
    {
      "cell_type": "markdown",
      "source": [
        "From the above bar plot, we can see that slimmer feature has high importance with about 15 percentage."
      ],
      "metadata": {
        "id": "ywyUoDlF-wew"
      }
    },
    {
      "cell_type": "markdown",
      "source": [
        "# Test cases"
      ],
      "metadata": {
        "id": "oCX22Su-HzDW"
      }
    },
    {
      "cell_type": "code",
      "source": [
        "# Test queries\n",
        "\n",
        "test_queries_list=['i have ordered the mobile phone a month ago, and i have not recieved it till now.',\n",
        "                   'are there any offers or discounts avialable for this festive season.',\n",
        "                   'When can I expect the extra large size of shirts to be available',\n",
        "                   'which phone should I consider to buy either  samsung or apple',\n",
        "                   'Can I expect this model of shirt in black color']"
      ],
      "metadata": {
        "id": "7LdOS9lO6mAp"
      },
      "execution_count": null,
      "outputs": []
    },
    {
      "cell_type": "code",
      "source": [
        "test_queries_labels=['Shipping', 'Sales/Promotions', 'Product Availability', 'Product Comparison', 'Product Availability']"
      ],
      "metadata": {
        "id": "TbFMwQv2-Eyh"
      },
      "execution_count": null,
      "outputs": []
    },
    {
      "cell_type": "code",
      "source": [
        "category_id_df = df[['topic', 'category_id']].drop_duplicates().sort_values('category_id')"
      ],
      "metadata": {
        "id": "QKB1801t-RTZ"
      },
      "execution_count": null,
      "outputs": []
    },
    {
      "cell_type": "code",
      "source": [
        "category_to_id = dict(category_id_df.values)\n",
        "id_to_category = dict(category_id_df[['category_id', 'topic']].values)"
      ],
      "metadata": {
        "id": "Vcp4EpGkBTJ0"
      },
      "execution_count": null,
      "outputs": []
    },
    {
      "cell_type": "code",
      "source": [
        "id_to_category"
      ],
      "metadata": {
        "colab": {
          "base_uri": "https://localhost:8080/"
        },
        "id": "JR6YQaAkBi2D",
        "outputId": "e60023a7-3ffe-4b2b-c3d7-c8b0fd20d132"
      },
      "execution_count": null,
      "outputs": [
        {
          "output_type": "execute_result",
          "data": {
            "text/plain": [
              "{0: 'Sales/Promotions',\n",
              " 1: 'Shipping',\n",
              " 2: 'Product Availability',\n",
              " 3: 'Product Specifications',\n",
              " 4: 'Omnichannel',\n",
              " 5: 'Product Comparison',\n",
              " 6: 'Returns & Refunds'}"
            ]
          },
          "metadata": {},
          "execution_count": 235
        }
      ]
    },
    {
      "cell_type": "code",
      "source": [
        "test_df=pd.DataFrame()"
      ],
      "metadata": {
        "id": "AggadPblDXh-"
      },
      "execution_count": null,
      "outputs": []
    },
    {
      "cell_type": "code",
      "source": [
        "test_df['Test_queries']=test_queries_list\n",
        "test_df['Test_labels']=test_queries_labels\n"
      ],
      "metadata": {
        "id": "Em2tID6-ClRi"
      },
      "execution_count": null,
      "outputs": []
    },
    {
      "cell_type": "code",
      "source": [
        "test_df['clean_test']=test_df['Test_queries'].apply(clean_text)"
      ],
      "metadata": {
        "id": "PxjmDxyzID8i"
      },
      "execution_count": null,
      "outputs": []
    },
    {
      "cell_type": "code",
      "source": [
        "test_df"
      ],
      "metadata": {
        "colab": {
          "base_uri": "https://localhost:8080/",
          "height": 206
        },
        "id": "f4QPOUrauGHc",
        "outputId": "f30e5bd2-236e-4f9c-f98a-43f5374354db"
      },
      "execution_count": null,
      "outputs": [
        {
          "output_type": "execute_result",
          "data": {
            "text/plain": [
              "                                        Test_queries           Test_labels  \\\n",
              "0  i have ordered the mobile phone a month ago, a...              Shipping   \n",
              "1  are there any offers or discounts avialable fo...      Sales/Promotions   \n",
              "2  When can I expect the extra large size of shir...  Product Availability   \n",
              "3  which phone should I consider to buy either  s...    Product Comparison   \n",
              "4    Can I expect this model of shirt in black color  Product Availability   \n",
              "\n",
              "                                     clean_test  \n",
              "0  ordered mobile phone month ago recieved till  \n",
              "1       offer discount avialable festive season  \n",
              "2       expect extra large size shirt available  \n",
              "3       phone consider buy either samsung apple  \n",
              "4                expect model shirt black color  "
            ],
            "text/html": [
              "\n",
              "  <div id=\"df-8e68d900-bc6e-41fc-8213-d319ef8289c9\">\n",
              "    <div class=\"colab-df-container\">\n",
              "      <div>\n",
              "<style scoped>\n",
              "    .dataframe tbody tr th:only-of-type {\n",
              "        vertical-align: middle;\n",
              "    }\n",
              "\n",
              "    .dataframe tbody tr th {\n",
              "        vertical-align: top;\n",
              "    }\n",
              "\n",
              "    .dataframe thead th {\n",
              "        text-align: right;\n",
              "    }\n",
              "</style>\n",
              "<table border=\"1\" class=\"dataframe\">\n",
              "  <thead>\n",
              "    <tr style=\"text-align: right;\">\n",
              "      <th></th>\n",
              "      <th>Test_queries</th>\n",
              "      <th>Test_labels</th>\n",
              "      <th>clean_test</th>\n",
              "    </tr>\n",
              "  </thead>\n",
              "  <tbody>\n",
              "    <tr>\n",
              "      <th>0</th>\n",
              "      <td>i have ordered the mobile phone a month ago, a...</td>\n",
              "      <td>Shipping</td>\n",
              "      <td>ordered mobile phone month ago recieved till</td>\n",
              "    </tr>\n",
              "    <tr>\n",
              "      <th>1</th>\n",
              "      <td>are there any offers or discounts avialable fo...</td>\n",
              "      <td>Sales/Promotions</td>\n",
              "      <td>offer discount avialable festive season</td>\n",
              "    </tr>\n",
              "    <tr>\n",
              "      <th>2</th>\n",
              "      <td>When can I expect the extra large size of shir...</td>\n",
              "      <td>Product Availability</td>\n",
              "      <td>expect extra large size shirt available</td>\n",
              "    </tr>\n",
              "    <tr>\n",
              "      <th>3</th>\n",
              "      <td>which phone should I consider to buy either  s...</td>\n",
              "      <td>Product Comparison</td>\n",
              "      <td>phone consider buy either samsung apple</td>\n",
              "    </tr>\n",
              "    <tr>\n",
              "      <th>4</th>\n",
              "      <td>Can I expect this model of shirt in black color</td>\n",
              "      <td>Product Availability</td>\n",
              "      <td>expect model shirt black color</td>\n",
              "    </tr>\n",
              "  </tbody>\n",
              "</table>\n",
              "</div>\n",
              "      <button class=\"colab-df-convert\" onclick=\"convertToInteractive('df-8e68d900-bc6e-41fc-8213-d319ef8289c9')\"\n",
              "              title=\"Convert this dataframe to an interactive table.\"\n",
              "              style=\"display:none;\">\n",
              "        \n",
              "  <svg xmlns=\"http://www.w3.org/2000/svg\" height=\"24px\"viewBox=\"0 0 24 24\"\n",
              "       width=\"24px\">\n",
              "    <path d=\"M0 0h24v24H0V0z\" fill=\"none\"/>\n",
              "    <path d=\"M18.56 5.44l.94 2.06.94-2.06 2.06-.94-2.06-.94-.94-2.06-.94 2.06-2.06.94zm-11 1L8.5 8.5l.94-2.06 2.06-.94-2.06-.94L8.5 2.5l-.94 2.06-2.06.94zm10 10l.94 2.06.94-2.06 2.06-.94-2.06-.94-.94-2.06-.94 2.06-2.06.94z\"/><path d=\"M17.41 7.96l-1.37-1.37c-.4-.4-.92-.59-1.43-.59-.52 0-1.04.2-1.43.59L10.3 9.45l-7.72 7.72c-.78.78-.78 2.05 0 2.83L4 21.41c.39.39.9.59 1.41.59.51 0 1.02-.2 1.41-.59l7.78-7.78 2.81-2.81c.8-.78.8-2.07 0-2.86zM5.41 20L4 18.59l7.72-7.72 1.47 1.35L5.41 20z\"/>\n",
              "  </svg>\n",
              "      </button>\n",
              "      \n",
              "  <style>\n",
              "    .colab-df-container {\n",
              "      display:flex;\n",
              "      flex-wrap:wrap;\n",
              "      gap: 12px;\n",
              "    }\n",
              "\n",
              "    .colab-df-convert {\n",
              "      background-color: #E8F0FE;\n",
              "      border: none;\n",
              "      border-radius: 50%;\n",
              "      cursor: pointer;\n",
              "      display: none;\n",
              "      fill: #1967D2;\n",
              "      height: 32px;\n",
              "      padding: 0 0 0 0;\n",
              "      width: 32px;\n",
              "    }\n",
              "\n",
              "    .colab-df-convert:hover {\n",
              "      background-color: #E2EBFA;\n",
              "      box-shadow: 0px 1px 2px rgba(60, 64, 67, 0.3), 0px 1px 3px 1px rgba(60, 64, 67, 0.15);\n",
              "      fill: #174EA6;\n",
              "    }\n",
              "\n",
              "    [theme=dark] .colab-df-convert {\n",
              "      background-color: #3B4455;\n",
              "      fill: #D2E3FC;\n",
              "    }\n",
              "\n",
              "    [theme=dark] .colab-df-convert:hover {\n",
              "      background-color: #434B5C;\n",
              "      box-shadow: 0px 1px 3px 1px rgba(0, 0, 0, 0.15);\n",
              "      filter: drop-shadow(0px 1px 2px rgba(0, 0, 0, 0.3));\n",
              "      fill: #FFFFFF;\n",
              "    }\n",
              "  </style>\n",
              "\n",
              "      <script>\n",
              "        const buttonEl =\n",
              "          document.querySelector('#df-8e68d900-bc6e-41fc-8213-d319ef8289c9 button.colab-df-convert');\n",
              "        buttonEl.style.display =\n",
              "          google.colab.kernel.accessAllowed ? 'block' : 'none';\n",
              "\n",
              "        async function convertToInteractive(key) {\n",
              "          const element = document.querySelector('#df-8e68d900-bc6e-41fc-8213-d319ef8289c9');\n",
              "          const dataTable =\n",
              "            await google.colab.kernel.invokeFunction('convertToInteractive',\n",
              "                                                     [key], {});\n",
              "          if (!dataTable) return;\n",
              "\n",
              "          const docLinkHtml = 'Like what you see? Visit the ' +\n",
              "            '<a target=\"_blank\" href=https://colab.research.google.com/notebooks/data_table.ipynb>data table notebook</a>'\n",
              "            + ' to learn more about interactive tables.';\n",
              "          element.innerHTML = '';\n",
              "          dataTable['output_type'] = 'display_data';\n",
              "          await google.colab.output.renderOutput(dataTable, element);\n",
              "          const docLink = document.createElement('div');\n",
              "          docLink.innerHTML = docLinkHtml;\n",
              "          element.appendChild(docLink);\n",
              "        }\n",
              "      </script>\n",
              "    </div>\n",
              "  </div>\n",
              "  "
            ]
          },
          "metadata": {},
          "execution_count": 239
        }
      ]
    },
    {
      "cell_type": "code",
      "source": [
        "test_queries_tfidf=tfidf_unigram.transform(test_df['clean_test'])\n",
        "predictions= best_model.predict(test_queries_tfidf)\n",
        "\n"
      ],
      "metadata": {
        "id": "BQa_vE6rGej7"
      },
      "execution_count": null,
      "outputs": []
    },
    {
      "cell_type": "code",
      "source": [
        "def predictions_list(test_input):\n",
        "  test_input=[test_input]\n",
        "  test_query_tfidf=tfidf_unigram.transform(test_input)\n",
        "  predictions = best_model.predict(test_query_tfidf)\n",
        "  predicted_label= id_to_category[predictions[0]]\n",
        "  return predicted_label"
      ],
      "metadata": {
        "id": "A3eIjr8Ms2UO"
      },
      "execution_count": null,
      "outputs": []
    },
    {
      "cell_type": "code",
      "source": [
        "test_df['predicted_labels']=test_df['clean_test'].apply(predictions_list)"
      ],
      "metadata": {
        "id": "VoBvUeR9tSi1"
      },
      "execution_count": null,
      "outputs": []
    },
    {
      "cell_type": "code",
      "source": [
        "test_df"
      ],
      "metadata": {
        "colab": {
          "base_uri": "https://localhost:8080/",
          "height": 337
        },
        "id": "2MHOldYjtqRz",
        "outputId": "b794155b-9223-4e2f-a70d-03e2928d9827"
      },
      "execution_count": null,
      "outputs": [
        {
          "output_type": "execute_result",
          "data": {
            "text/plain": [
              "                                        Test_queries           Test_labels  \\\n",
              "0  i have ordered the mobile phone a month ago, a...              Shipping   \n",
              "1  are there any offers or discounts avialable fo...      Sales/Promotions   \n",
              "2  When can I expect the extra large size of shir...  Product Availability   \n",
              "3  which phone should I consider to buy either  s...    Product Comparison   \n",
              "4    Can I expect this model of shirt in black color  Product Availability   \n",
              "\n",
              "                                     clean_test        predicted_labels  \n",
              "0  ordered mobile phone month ago recieved till  Product Specifications  \n",
              "1       offer discount avialable festive season      Product Comparison  \n",
              "2       expect extra large size shirt available                Shipping  \n",
              "3       phone consider buy either samsung apple    Product Availability  \n",
              "4                expect model shirt black color                Shipping  "
            ],
            "text/html": [
              "\n",
              "  <div id=\"df-6bb1a66d-b739-46f2-b800-07010d060bec\">\n",
              "    <div class=\"colab-df-container\">\n",
              "      <div>\n",
              "<style scoped>\n",
              "    .dataframe tbody tr th:only-of-type {\n",
              "        vertical-align: middle;\n",
              "    }\n",
              "\n",
              "    .dataframe tbody tr th {\n",
              "        vertical-align: top;\n",
              "    }\n",
              "\n",
              "    .dataframe thead th {\n",
              "        text-align: right;\n",
              "    }\n",
              "</style>\n",
              "<table border=\"1\" class=\"dataframe\">\n",
              "  <thead>\n",
              "    <tr style=\"text-align: right;\">\n",
              "      <th></th>\n",
              "      <th>Test_queries</th>\n",
              "      <th>Test_labels</th>\n",
              "      <th>clean_test</th>\n",
              "      <th>predicted_labels</th>\n",
              "    </tr>\n",
              "  </thead>\n",
              "  <tbody>\n",
              "    <tr>\n",
              "      <th>0</th>\n",
              "      <td>i have ordered the mobile phone a month ago, a...</td>\n",
              "      <td>Shipping</td>\n",
              "      <td>ordered mobile phone month ago recieved till</td>\n",
              "      <td>Product Specifications</td>\n",
              "    </tr>\n",
              "    <tr>\n",
              "      <th>1</th>\n",
              "      <td>are there any offers or discounts avialable fo...</td>\n",
              "      <td>Sales/Promotions</td>\n",
              "      <td>offer discount avialable festive season</td>\n",
              "      <td>Product Comparison</td>\n",
              "    </tr>\n",
              "    <tr>\n",
              "      <th>2</th>\n",
              "      <td>When can I expect the extra large size of shir...</td>\n",
              "      <td>Product Availability</td>\n",
              "      <td>expect extra large size shirt available</td>\n",
              "      <td>Shipping</td>\n",
              "    </tr>\n",
              "    <tr>\n",
              "      <th>3</th>\n",
              "      <td>which phone should I consider to buy either  s...</td>\n",
              "      <td>Product Comparison</td>\n",
              "      <td>phone consider buy either samsung apple</td>\n",
              "      <td>Product Availability</td>\n",
              "    </tr>\n",
              "    <tr>\n",
              "      <th>4</th>\n",
              "      <td>Can I expect this model of shirt in black color</td>\n",
              "      <td>Product Availability</td>\n",
              "      <td>expect model shirt black color</td>\n",
              "      <td>Shipping</td>\n",
              "    </tr>\n",
              "  </tbody>\n",
              "</table>\n",
              "</div>\n",
              "      <button class=\"colab-df-convert\" onclick=\"convertToInteractive('df-6bb1a66d-b739-46f2-b800-07010d060bec')\"\n",
              "              title=\"Convert this dataframe to an interactive table.\"\n",
              "              style=\"display:none;\">\n",
              "        \n",
              "  <svg xmlns=\"http://www.w3.org/2000/svg\" height=\"24px\"viewBox=\"0 0 24 24\"\n",
              "       width=\"24px\">\n",
              "    <path d=\"M0 0h24v24H0V0z\" fill=\"none\"/>\n",
              "    <path d=\"M18.56 5.44l.94 2.06.94-2.06 2.06-.94-2.06-.94-.94-2.06-.94 2.06-2.06.94zm-11 1L8.5 8.5l.94-2.06 2.06-.94-2.06-.94L8.5 2.5l-.94 2.06-2.06.94zm10 10l.94 2.06.94-2.06 2.06-.94-2.06-.94-.94-2.06-.94 2.06-2.06.94z\"/><path d=\"M17.41 7.96l-1.37-1.37c-.4-.4-.92-.59-1.43-.59-.52 0-1.04.2-1.43.59L10.3 9.45l-7.72 7.72c-.78.78-.78 2.05 0 2.83L4 21.41c.39.39.9.59 1.41.59.51 0 1.02-.2 1.41-.59l7.78-7.78 2.81-2.81c.8-.78.8-2.07 0-2.86zM5.41 20L4 18.59l7.72-7.72 1.47 1.35L5.41 20z\"/>\n",
              "  </svg>\n",
              "      </button>\n",
              "      \n",
              "  <style>\n",
              "    .colab-df-container {\n",
              "      display:flex;\n",
              "      flex-wrap:wrap;\n",
              "      gap: 12px;\n",
              "    }\n",
              "\n",
              "    .colab-df-convert {\n",
              "      background-color: #E8F0FE;\n",
              "      border: none;\n",
              "      border-radius: 50%;\n",
              "      cursor: pointer;\n",
              "      display: none;\n",
              "      fill: #1967D2;\n",
              "      height: 32px;\n",
              "      padding: 0 0 0 0;\n",
              "      width: 32px;\n",
              "    }\n",
              "\n",
              "    .colab-df-convert:hover {\n",
              "      background-color: #E2EBFA;\n",
              "      box-shadow: 0px 1px 2px rgba(60, 64, 67, 0.3), 0px 1px 3px 1px rgba(60, 64, 67, 0.15);\n",
              "      fill: #174EA6;\n",
              "    }\n",
              "\n",
              "    [theme=dark] .colab-df-convert {\n",
              "      background-color: #3B4455;\n",
              "      fill: #D2E3FC;\n",
              "    }\n",
              "\n",
              "    [theme=dark] .colab-df-convert:hover {\n",
              "      background-color: #434B5C;\n",
              "      box-shadow: 0px 1px 3px 1px rgba(0, 0, 0, 0.15);\n",
              "      filter: drop-shadow(0px 1px 2px rgba(0, 0, 0, 0.3));\n",
              "      fill: #FFFFFF;\n",
              "    }\n",
              "  </style>\n",
              "\n",
              "      <script>\n",
              "        const buttonEl =\n",
              "          document.querySelector('#df-6bb1a66d-b739-46f2-b800-07010d060bec button.colab-df-convert');\n",
              "        buttonEl.style.display =\n",
              "          google.colab.kernel.accessAllowed ? 'block' : 'none';\n",
              "\n",
              "        async function convertToInteractive(key) {\n",
              "          const element = document.querySelector('#df-6bb1a66d-b739-46f2-b800-07010d060bec');\n",
              "          const dataTable =\n",
              "            await google.colab.kernel.invokeFunction('convertToInteractive',\n",
              "                                                     [key], {});\n",
              "          if (!dataTable) return;\n",
              "\n",
              "          const docLinkHtml = 'Like what you see? Visit the ' +\n",
              "            '<a target=\"_blank\" href=https://colab.research.google.com/notebooks/data_table.ipynb>data table notebook</a>'\n",
              "            + ' to learn more about interactive tables.';\n",
              "          element.innerHTML = '';\n",
              "          dataTable['output_type'] = 'display_data';\n",
              "          await google.colab.output.renderOutput(dataTable, element);\n",
              "          const docLink = document.createElement('div');\n",
              "          docLink.innerHTML = docLinkHtml;\n",
              "          element.appendChild(docLink);\n",
              "        }\n",
              "      </script>\n",
              "    </div>\n",
              "  </div>\n",
              "  "
            ]
          },
          "metadata": {},
          "execution_count": 243
        }
      ]
    },
    {
      "cell_type": "markdown",
      "source": [
        "From the above results, we see that the predictions went completely wrong. This could be the due to overfitting in the model or improper training of the model."
      ],
      "metadata": {
        "id": "CBXchiV_vu70"
      }
    },
    {
      "cell_type": "markdown",
      "source": [
        "# Results and Analysis"
      ],
      "metadata": {
        "id": "A6NLZCZFQPuZ"
      }
    },
    {
      "cell_type": "code",
      "source": [
        "Input_models=['Logistic_Regression_tfidf','Logistic_Regression_tfidfngram','Logistic_Regression_w2v','Logistic_Regression_d2v',\n",
        "              'RandomForest_tfidf','RandomForest_tfidfn','RandomForest_w2v','RandomForest_d2v',\n",
        "              'Adaboost_tfidf','Adaboost_tfidfn','Adaboost_w2v','Adaboost_d2v']"
      ],
      "metadata": {
        "id": "VkkOyW7C7F8V"
      },
      "execution_count": null,
      "outputs": []
    },
    {
      "cell_type": "code",
      "source": [
        "scores_df=pd.DataFrame()\n",
        "scores_df['Input_Models']=Input_models\n",
        "scores_df['Precision_scores']=Precision"
      ],
      "metadata": {
        "id": "E1DI9r5H_BLv"
      },
      "execution_count": null,
      "outputs": []
    },
    {
      "cell_type": "code",
      "source": [
        "scores_df"
      ],
      "metadata": {
        "colab": {
          "base_uri": "https://localhost:8080/",
          "height": 426
        },
        "id": "MYr5MIFH_Z4v",
        "outputId": "2fb1d7fd-dbd6-4d11-bd9c-2cac9e11b538"
      },
      "execution_count": null,
      "outputs": [
        {
          "output_type": "execute_result",
          "data": {
            "text/plain": [
              "                      Input_Models  Precision_scores\n",
              "0        Logistic_Regression_tfidf          0.971708\n",
              "1   Logistic_Regression_tfidfngram          0.923763\n",
              "2          Logistic_Regression_w2v          0.777588\n",
              "3          Logistic_Regression_d2v          0.618207\n",
              "4               RandomForest_tfidf          0.974738\n",
              "5              RandomForest_tfidfn          0.914792\n",
              "6                 RandomForest_w2v          0.874650\n",
              "7                 RandomForest_d2v          0.776687\n",
              "8                   Adaboost_tfidf          0.530310\n",
              "9                  Adaboost_tfidfn          0.877688\n",
              "10                    Adaboost_w2v          0.564943\n",
              "11                    Adaboost_d2v          0.491051"
            ],
            "text/html": [
              "\n",
              "  <div id=\"df-4220f66f-e23b-4866-8f8a-22befcb24129\">\n",
              "    <div class=\"colab-df-container\">\n",
              "      <div>\n",
              "<style scoped>\n",
              "    .dataframe tbody tr th:only-of-type {\n",
              "        vertical-align: middle;\n",
              "    }\n",
              "\n",
              "    .dataframe tbody tr th {\n",
              "        vertical-align: top;\n",
              "    }\n",
              "\n",
              "    .dataframe thead th {\n",
              "        text-align: right;\n",
              "    }\n",
              "</style>\n",
              "<table border=\"1\" class=\"dataframe\">\n",
              "  <thead>\n",
              "    <tr style=\"text-align: right;\">\n",
              "      <th></th>\n",
              "      <th>Input_Models</th>\n",
              "      <th>Precision_scores</th>\n",
              "    </tr>\n",
              "  </thead>\n",
              "  <tbody>\n",
              "    <tr>\n",
              "      <th>0</th>\n",
              "      <td>Logistic_Regression_tfidf</td>\n",
              "      <td>0.971708</td>\n",
              "    </tr>\n",
              "    <tr>\n",
              "      <th>1</th>\n",
              "      <td>Logistic_Regression_tfidfngram</td>\n",
              "      <td>0.923763</td>\n",
              "    </tr>\n",
              "    <tr>\n",
              "      <th>2</th>\n",
              "      <td>Logistic_Regression_w2v</td>\n",
              "      <td>0.777588</td>\n",
              "    </tr>\n",
              "    <tr>\n",
              "      <th>3</th>\n",
              "      <td>Logistic_Regression_d2v</td>\n",
              "      <td>0.618207</td>\n",
              "    </tr>\n",
              "    <tr>\n",
              "      <th>4</th>\n",
              "      <td>RandomForest_tfidf</td>\n",
              "      <td>0.974738</td>\n",
              "    </tr>\n",
              "    <tr>\n",
              "      <th>5</th>\n",
              "      <td>RandomForest_tfidfn</td>\n",
              "      <td>0.914792</td>\n",
              "    </tr>\n",
              "    <tr>\n",
              "      <th>6</th>\n",
              "      <td>RandomForest_w2v</td>\n",
              "      <td>0.874650</td>\n",
              "    </tr>\n",
              "    <tr>\n",
              "      <th>7</th>\n",
              "      <td>RandomForest_d2v</td>\n",
              "      <td>0.776687</td>\n",
              "    </tr>\n",
              "    <tr>\n",
              "      <th>8</th>\n",
              "      <td>Adaboost_tfidf</td>\n",
              "      <td>0.530310</td>\n",
              "    </tr>\n",
              "    <tr>\n",
              "      <th>9</th>\n",
              "      <td>Adaboost_tfidfn</td>\n",
              "      <td>0.877688</td>\n",
              "    </tr>\n",
              "    <tr>\n",
              "      <th>10</th>\n",
              "      <td>Adaboost_w2v</td>\n",
              "      <td>0.564943</td>\n",
              "    </tr>\n",
              "    <tr>\n",
              "      <th>11</th>\n",
              "      <td>Adaboost_d2v</td>\n",
              "      <td>0.491051</td>\n",
              "    </tr>\n",
              "  </tbody>\n",
              "</table>\n",
              "</div>\n",
              "      <button class=\"colab-df-convert\" onclick=\"convertToInteractive('df-4220f66f-e23b-4866-8f8a-22befcb24129')\"\n",
              "              title=\"Convert this dataframe to an interactive table.\"\n",
              "              style=\"display:none;\">\n",
              "        \n",
              "  <svg xmlns=\"http://www.w3.org/2000/svg\" height=\"24px\"viewBox=\"0 0 24 24\"\n",
              "       width=\"24px\">\n",
              "    <path d=\"M0 0h24v24H0V0z\" fill=\"none\"/>\n",
              "    <path d=\"M18.56 5.44l.94 2.06.94-2.06 2.06-.94-2.06-.94-.94-2.06-.94 2.06-2.06.94zm-11 1L8.5 8.5l.94-2.06 2.06-.94-2.06-.94L8.5 2.5l-.94 2.06-2.06.94zm10 10l.94 2.06.94-2.06 2.06-.94-2.06-.94-.94-2.06-.94 2.06-2.06.94z\"/><path d=\"M17.41 7.96l-1.37-1.37c-.4-.4-.92-.59-1.43-.59-.52 0-1.04.2-1.43.59L10.3 9.45l-7.72 7.72c-.78.78-.78 2.05 0 2.83L4 21.41c.39.39.9.59 1.41.59.51 0 1.02-.2 1.41-.59l7.78-7.78 2.81-2.81c.8-.78.8-2.07 0-2.86zM5.41 20L4 18.59l7.72-7.72 1.47 1.35L5.41 20z\"/>\n",
              "  </svg>\n",
              "      </button>\n",
              "      \n",
              "  <style>\n",
              "    .colab-df-container {\n",
              "      display:flex;\n",
              "      flex-wrap:wrap;\n",
              "      gap: 12px;\n",
              "    }\n",
              "\n",
              "    .colab-df-convert {\n",
              "      background-color: #E8F0FE;\n",
              "      border: none;\n",
              "      border-radius: 50%;\n",
              "      cursor: pointer;\n",
              "      display: none;\n",
              "      fill: #1967D2;\n",
              "      height: 32px;\n",
              "      padding: 0 0 0 0;\n",
              "      width: 32px;\n",
              "    }\n",
              "\n",
              "    .colab-df-convert:hover {\n",
              "      background-color: #E2EBFA;\n",
              "      box-shadow: 0px 1px 2px rgba(60, 64, 67, 0.3), 0px 1px 3px 1px rgba(60, 64, 67, 0.15);\n",
              "      fill: #174EA6;\n",
              "    }\n",
              "\n",
              "    [theme=dark] .colab-df-convert {\n",
              "      background-color: #3B4455;\n",
              "      fill: #D2E3FC;\n",
              "    }\n",
              "\n",
              "    [theme=dark] .colab-df-convert:hover {\n",
              "      background-color: #434B5C;\n",
              "      box-shadow: 0px 1px 3px 1px rgba(0, 0, 0, 0.15);\n",
              "      filter: drop-shadow(0px 1px 2px rgba(0, 0, 0, 0.3));\n",
              "      fill: #FFFFFF;\n",
              "    }\n",
              "  </style>\n",
              "\n",
              "      <script>\n",
              "        const buttonEl =\n",
              "          document.querySelector('#df-4220f66f-e23b-4866-8f8a-22befcb24129 button.colab-df-convert');\n",
              "        buttonEl.style.display =\n",
              "          google.colab.kernel.accessAllowed ? 'block' : 'none';\n",
              "\n",
              "        async function convertToInteractive(key) {\n",
              "          const element = document.querySelector('#df-4220f66f-e23b-4866-8f8a-22befcb24129');\n",
              "          const dataTable =\n",
              "            await google.colab.kernel.invokeFunction('convertToInteractive',\n",
              "                                                     [key], {});\n",
              "          if (!dataTable) return;\n",
              "\n",
              "          const docLinkHtml = 'Like what you see? Visit the ' +\n",
              "            '<a target=\"_blank\" href=https://colab.research.google.com/notebooks/data_table.ipynb>data table notebook</a>'\n",
              "            + ' to learn more about interactive tables.';\n",
              "          element.innerHTML = '';\n",
              "          dataTable['output_type'] = 'display_data';\n",
              "          await google.colab.output.renderOutput(dataTable, element);\n",
              "          const docLink = document.createElement('div');\n",
              "          docLink.innerHTML = docLinkHtml;\n",
              "          element.appendChild(docLink);\n",
              "        }\n",
              "      </script>\n",
              "    </div>\n",
              "  </div>\n",
              "  "
            ]
          },
          "metadata": {},
          "execution_count": 271
        }
      ]
    },
    {
      "cell_type": "markdown",
      "source": [
        "I have used Logistic Regression, Random Forest  Classifier and Adaboost Classifier.\n",
        "\n",
        "As Random Forest Classifier is an ensemble of bagging methods which tries to reduce the high variance, I choose to build Adaboost method as it could reduce high bias.\n",
        "\n",
        "Given the results I choose, Random Forest Classifier with tf-idf unigrams as best model with high weighted-precision score of 97%.\n",
        "\n",
        "As classes \"Omni Channel\" and \"Sales/Promotions\" are low on total count, which denotes imbalance in the dataset, I chose weighted average of precision.\n",
        "\n"
      ],
      "metadata": {
        "id": "OiG0_Ns9QSO-"
      }
    },
    {
      "cell_type": "markdown",
      "source": [
        "# Performance metrics and why Precision?"
      ],
      "metadata": {
        "id": "uw5mtyoQQfWS"
      }
    },
    {
      "cell_type": "markdown",
      "source": [
        "I considered 'Precision' as performance metric. As the dataset provided is customer query classification, the business applciation can possibly be allocating the service request to concerned department(eg: Sales/Promotions, Return & Refunds) based on question. So in such cases a misclassified query can result in allocating the query to improper team, which could further result in delay in response to the customer. As 'precision' tells about the proportion of predicted class to the actual class, I chose 'Precision to be the performance to evaluate the best model."
      ],
      "metadata": {
        "id": "3JIY7jgeQonl"
      }
    }
  ],
  "metadata": {
    "colab": {
      "provenance": [],
      "authorship_tag": "ABX9TyN056vmRozKcGayA+uRCcJg",
      "include_colab_link": true
    },
    "kernelspec": {
      "display_name": "Python 3",
      "name": "python3"
    },
    "language_info": {
      "name": "python"
    },
    "widgets": {
      "application/vnd.jupyter.widget-state+json": {
        "673500d58d69444c8b3d9bd2a0f5f507": {
          "model_module": "@jupyter-widgets/controls",
          "model_name": "HBoxModel",
          "model_module_version": "1.5.0",
          "state": {
            "_dom_classes": [],
            "_model_module": "@jupyter-widgets/controls",
            "_model_module_version": "1.5.0",
            "_model_name": "HBoxModel",
            "_view_count": null,
            "_view_module": "@jupyter-widgets/controls",
            "_view_module_version": "1.5.0",
            "_view_name": "HBoxView",
            "box_style": "",
            "children": [
              "IPY_MODEL_3faf843c0b4b4f58aedfed0eb03b1728",
              "IPY_MODEL_fedfc59add8d44e191148716eeb349d1",
              "IPY_MODEL_47c3a907e07346dbb7d4a0fd127c671f"
            ],
            "layout": "IPY_MODEL_b96b2813fb8549908a31a8d0b9c83108"
          }
        },
        "3faf843c0b4b4f58aedfed0eb03b1728": {
          "model_module": "@jupyter-widgets/controls",
          "model_name": "HTMLModel",
          "model_module_version": "1.5.0",
          "state": {
            "_dom_classes": [],
            "_model_module": "@jupyter-widgets/controls",
            "_model_module_version": "1.5.0",
            "_model_name": "HTMLModel",
            "_view_count": null,
            "_view_module": "@jupyter-widgets/controls",
            "_view_module_version": "1.5.0",
            "_view_name": "HTMLView",
            "description": "",
            "description_tooltip": null,
            "layout": "IPY_MODEL_c9acfeb439294b69b8f39eaf1a5652d1",
            "placeholder": "​",
            "style": "IPY_MODEL_29ab69718c364ee4951432ddcf2ffbf2",
            "value": "100%"
          }
        },
        "fedfc59add8d44e191148716eeb349d1": {
          "model_module": "@jupyter-widgets/controls",
          "model_name": "FloatProgressModel",
          "model_module_version": "1.5.0",
          "state": {
            "_dom_classes": [],
            "_model_module": "@jupyter-widgets/controls",
            "_model_module_version": "1.5.0",
            "_model_name": "FloatProgressModel",
            "_view_count": null,
            "_view_module": "@jupyter-widgets/controls",
            "_view_module_version": "1.5.0",
            "_view_name": "ProgressView",
            "bar_style": "success",
            "description": "",
            "description_tooltip": null,
            "layout": "IPY_MODEL_dc13aa3efa5c4ec3925e3858c87d2d76",
            "max": 15,
            "min": 0,
            "orientation": "horizontal",
            "style": "IPY_MODEL_51f6175da2a94076ae67435e41e3fecb",
            "value": 15
          }
        },
        "47c3a907e07346dbb7d4a0fd127c671f": {
          "model_module": "@jupyter-widgets/controls",
          "model_name": "HTMLModel",
          "model_module_version": "1.5.0",
          "state": {
            "_dom_classes": [],
            "_model_module": "@jupyter-widgets/controls",
            "_model_module_version": "1.5.0",
            "_model_name": "HTMLModel",
            "_view_count": null,
            "_view_module": "@jupyter-widgets/controls",
            "_view_module_version": "1.5.0",
            "_view_name": "HTMLView",
            "description": "",
            "description_tooltip": null,
            "layout": "IPY_MODEL_63b71074289f47d097fc65cb1f0b6d92",
            "placeholder": "​",
            "style": "IPY_MODEL_9bccd1946f2246f5a8251218f56961d7",
            "value": " 15/15 [13:39&lt;00:00, 52.12s/it]"
          }
        },
        "b96b2813fb8549908a31a8d0b9c83108": {
          "model_module": "@jupyter-widgets/base",
          "model_name": "LayoutModel",
          "model_module_version": "1.2.0",
          "state": {
            "_model_module": "@jupyter-widgets/base",
            "_model_module_version": "1.2.0",
            "_model_name": "LayoutModel",
            "_view_count": null,
            "_view_module": "@jupyter-widgets/base",
            "_view_module_version": "1.2.0",
            "_view_name": "LayoutView",
            "align_content": null,
            "align_items": null,
            "align_self": null,
            "border": null,
            "bottom": null,
            "display": null,
            "flex": null,
            "flex_flow": null,
            "grid_area": null,
            "grid_auto_columns": null,
            "grid_auto_flow": null,
            "grid_auto_rows": null,
            "grid_column": null,
            "grid_gap": null,
            "grid_row": null,
            "grid_template_areas": null,
            "grid_template_columns": null,
            "grid_template_rows": null,
            "height": null,
            "justify_content": null,
            "justify_items": null,
            "left": null,
            "margin": null,
            "max_height": null,
            "max_width": null,
            "min_height": null,
            "min_width": null,
            "object_fit": null,
            "object_position": null,
            "order": null,
            "overflow": null,
            "overflow_x": null,
            "overflow_y": null,
            "padding": null,
            "right": null,
            "top": null,
            "visibility": null,
            "width": null
          }
        },
        "c9acfeb439294b69b8f39eaf1a5652d1": {
          "model_module": "@jupyter-widgets/base",
          "model_name": "LayoutModel",
          "model_module_version": "1.2.0",
          "state": {
            "_model_module": "@jupyter-widgets/base",
            "_model_module_version": "1.2.0",
            "_model_name": "LayoutModel",
            "_view_count": null,
            "_view_module": "@jupyter-widgets/base",
            "_view_module_version": "1.2.0",
            "_view_name": "LayoutView",
            "align_content": null,
            "align_items": null,
            "align_self": null,
            "border": null,
            "bottom": null,
            "display": null,
            "flex": null,
            "flex_flow": null,
            "grid_area": null,
            "grid_auto_columns": null,
            "grid_auto_flow": null,
            "grid_auto_rows": null,
            "grid_column": null,
            "grid_gap": null,
            "grid_row": null,
            "grid_template_areas": null,
            "grid_template_columns": null,
            "grid_template_rows": null,
            "height": null,
            "justify_content": null,
            "justify_items": null,
            "left": null,
            "margin": null,
            "max_height": null,
            "max_width": null,
            "min_height": null,
            "min_width": null,
            "object_fit": null,
            "object_position": null,
            "order": null,
            "overflow": null,
            "overflow_x": null,
            "overflow_y": null,
            "padding": null,
            "right": null,
            "top": null,
            "visibility": null,
            "width": null
          }
        },
        "29ab69718c364ee4951432ddcf2ffbf2": {
          "model_module": "@jupyter-widgets/controls",
          "model_name": "DescriptionStyleModel",
          "model_module_version": "1.5.0",
          "state": {
            "_model_module": "@jupyter-widgets/controls",
            "_model_module_version": "1.5.0",
            "_model_name": "DescriptionStyleModel",
            "_view_count": null,
            "_view_module": "@jupyter-widgets/base",
            "_view_module_version": "1.2.0",
            "_view_name": "StyleView",
            "description_width": ""
          }
        },
        "dc13aa3efa5c4ec3925e3858c87d2d76": {
          "model_module": "@jupyter-widgets/base",
          "model_name": "LayoutModel",
          "model_module_version": "1.2.0",
          "state": {
            "_model_module": "@jupyter-widgets/base",
            "_model_module_version": "1.2.0",
            "_model_name": "LayoutModel",
            "_view_count": null,
            "_view_module": "@jupyter-widgets/base",
            "_view_module_version": "1.2.0",
            "_view_name": "LayoutView",
            "align_content": null,
            "align_items": null,
            "align_self": null,
            "border": null,
            "bottom": null,
            "display": null,
            "flex": null,
            "flex_flow": null,
            "grid_area": null,
            "grid_auto_columns": null,
            "grid_auto_flow": null,
            "grid_auto_rows": null,
            "grid_column": null,
            "grid_gap": null,
            "grid_row": null,
            "grid_template_areas": null,
            "grid_template_columns": null,
            "grid_template_rows": null,
            "height": null,
            "justify_content": null,
            "justify_items": null,
            "left": null,
            "margin": null,
            "max_height": null,
            "max_width": null,
            "min_height": null,
            "min_width": null,
            "object_fit": null,
            "object_position": null,
            "order": null,
            "overflow": null,
            "overflow_x": null,
            "overflow_y": null,
            "padding": null,
            "right": null,
            "top": null,
            "visibility": null,
            "width": null
          }
        },
        "51f6175da2a94076ae67435e41e3fecb": {
          "model_module": "@jupyter-widgets/controls",
          "model_name": "ProgressStyleModel",
          "model_module_version": "1.5.0",
          "state": {
            "_model_module": "@jupyter-widgets/controls",
            "_model_module_version": "1.5.0",
            "_model_name": "ProgressStyleModel",
            "_view_count": null,
            "_view_module": "@jupyter-widgets/base",
            "_view_module_version": "1.2.0",
            "_view_name": "StyleView",
            "bar_color": null,
            "description_width": ""
          }
        },
        "63b71074289f47d097fc65cb1f0b6d92": {
          "model_module": "@jupyter-widgets/base",
          "model_name": "LayoutModel",
          "model_module_version": "1.2.0",
          "state": {
            "_model_module": "@jupyter-widgets/base",
            "_model_module_version": "1.2.0",
            "_model_name": "LayoutModel",
            "_view_count": null,
            "_view_module": "@jupyter-widgets/base",
            "_view_module_version": "1.2.0",
            "_view_name": "LayoutView",
            "align_content": null,
            "align_items": null,
            "align_self": null,
            "border": null,
            "bottom": null,
            "display": null,
            "flex": null,
            "flex_flow": null,
            "grid_area": null,
            "grid_auto_columns": null,
            "grid_auto_flow": null,
            "grid_auto_rows": null,
            "grid_column": null,
            "grid_gap": null,
            "grid_row": null,
            "grid_template_areas": null,
            "grid_template_columns": null,
            "grid_template_rows": null,
            "height": null,
            "justify_content": null,
            "justify_items": null,
            "left": null,
            "margin": null,
            "max_height": null,
            "max_width": null,
            "min_height": null,
            "min_width": null,
            "object_fit": null,
            "object_position": null,
            "order": null,
            "overflow": null,
            "overflow_x": null,
            "overflow_y": null,
            "padding": null,
            "right": null,
            "top": null,
            "visibility": null,
            "width": null
          }
        },
        "9bccd1946f2246f5a8251218f56961d7": {
          "model_module": "@jupyter-widgets/controls",
          "model_name": "DescriptionStyleModel",
          "model_module_version": "1.5.0",
          "state": {
            "_model_module": "@jupyter-widgets/controls",
            "_model_module_version": "1.5.0",
            "_model_name": "DescriptionStyleModel",
            "_view_count": null,
            "_view_module": "@jupyter-widgets/base",
            "_view_module_version": "1.2.0",
            "_view_name": "StyleView",
            "description_width": ""
          }
        }
      }
    }
  },
  "nbformat": 4,
  "nbformat_minor": 0
}